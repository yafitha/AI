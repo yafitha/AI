{
 "cells": [
  {
   "attachments": {
    "pipeline.png": {
     "image/png": "[encoded data removed]"
    }
   },
   "cell_type": "markdown",
   "metadata": {},
   "source": [
    "![pipeline.png](attachment:pipeline.png)"
   ]
  },
  {
   "cell_type": "markdown",
   "metadata": {},
   "source": [
    "# Pipelines"
   ]
  },
  {
   "cell_type": "markdown",
   "metadata": {},
   "source": [
    "<p style=\"line-height:1.75;font-size:16px\">\n",
    "In previous lessons we've seen that before training a model we usually have to pre-process the data first. Steps such as `get_dummies`, scaling and data imputation usually happen in sequence before any training can begin. Using sklearn's pipeline we can streamline the process of data transformation and make it more modular."
   ]
  },
  {
   "cell_type": "markdown",
   "metadata": {},
   "source": [
    "# Example"
   ]
  },
  {
   "cell_type": "markdown",
   "metadata": {},
   "source": [
    "<p style=\"line-height:1.75;font-size:16px\">\n",
    "For this example we'll use the housing dataset from earlier. We want to perform the following transformations before training a model:<br>\n",
    "1.<span style=\"line-height:1.75;font-size:16px\">Transform categorical features using get_dummies.<br>\n",
    "2.<span style=\"line-height:1.75;font-size:16px\"> min-max scaling.<br>\n",
    "Let's see how it's done.\n",
    "<p style=\"line-height:1.75;font-size:16px\">\n",
    "First, we will have to create a custom transformer that will remove N\\A values and perfrom get_dummies."
   ]
  },
  {
   "cell_type": "code",
   "execution_count": 26,
   "metadata": {},
   "outputs": [],
   "source": [
    "from sklearn.base import BaseEstimator, TransformerMixin\n",
    "\n",
    "class CustomTransformer(BaseEstimator, TransformerMixin):\n",
    "    def fit(self, X, y=None):\n",
    "        return self\n",
    "    \n",
    "    def transform(self, X, y=None):\n",
    "        X_ = X.copy()\n",
    "        X_ = pd.get_dummies(X_)\n",
    "        return X_"
   ]
  },
  {
   "cell_type": "code",
   "execution_count": 31,
   "metadata": {},
   "outputs": [
    {
     "data": {
      "text/plain": [
       "0.699462766841046"
      ]
     },
     "execution_count": 31,
     "metadata": {},
     "output_type": "execute_result"
    }
   ],
   "source": [
    "import pandas as pd\n",
    "from sklearn.pipeline import Pipeline\n",
    "from sklearn.model_selection import train_test_split\n",
    "from sklearn.preprocessing import MinMaxScaler\n",
    "from sklearn.neighbors import KNeighborsRegressor\n",
    "\n",
    "\n",
    "data = pd.read_csv('data/housing.csv')\n",
    "data.dropna(inplace=True)\n",
    "X_train, X_test, y_train, y_test = train_test_split(data.drop('median_house_value', axis=1), data['median_house_value'], train_size=0.8)\n",
    "\n",
    "pipe = Pipeline([('custom_transform', CustomTransformer()), ('scaling', MinMaxScaler()), ('knn', KNeighborsRegressor(10))])\n",
    "pipe.fit(X_train, y_train)\n",
    "pipe.score(X_test, y_test)"
   ]
  },
  {
   "cell_type": "markdown",
   "metadata": {},
   "source": [
    "# Stratified Data Splitting"
   ]
  },
  {
   "cell_type": "code",
   "execution_count": 37,
   "metadata": {},
   "outputs": [
    {
     "name": "stdout",
     "output_type": "stream",
     "text": [
      "Original\n",
      "Counter({0: 94, 1: 6})\n",
      "Split\n",
      "Counter({0: 45, 1: 5})\n",
      "Counter({0: 49, 1: 1})\n",
      "Stratified\n",
      "Counter({0: 47, 1: 3})\n",
      "Counter({0: 47, 1: 3})\n"
     ]
    }
   ],
   "source": [
    "from collections import Counter\n",
    "from sklearn.datasets import make_classification\n",
    "from sklearn.model_selection import train_test_split\n",
    "\n",
    "\n",
    "X, y = make_classification(n_samples=100, weights=[0.94], flip_y=0, random_state=1)\n",
    "print('Original')\n",
    "print(Counter(y))\n",
    "\n",
    "X_train, X_test, y_train, y_test = train_test_split(X, y, test_size=0.50, random_state=1)\n",
    "print('Split')\n",
    "print(Counter(y_train))\n",
    "print(Counter(y_test))\n",
    "\n",
    "X_train, X_test, y_train, y_test = train_test_split(X, y, test_size=0.50, random_state=1, stratify=y)\n",
    "print('Stratified')\n",
    "print(Counter(y_train))\n",
    "print(Counter(y_test))"
   ]
  }
 ],
 "metadata": {
  "kernelspec": {
   "display_name": "Python 3",
   "language": "python",
   "name": "python3"
  },
  "language_info": {
   "codemirror_mode": {
    "name": "ipython",
    "version": 3
   },
   "file_extension": ".py",
   "mimetype": "text/x-python",
   "name": "python",
   "nbconvert_exporter": "python",
   "pygments_lexer": "ipython3",
   "version": "3.6.3"
  }
 },
 "nbformat": 4,
 "nbformat_minor": 2
}
