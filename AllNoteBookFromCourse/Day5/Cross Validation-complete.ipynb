{
 "cells": [
  {
   "cell_type": "markdown",
   "metadata": {},
   "source": [
    "# Cross Validation"
   ]
  },
  {
   "cell_type": "markdown",
   "metadata": {},
   "source": [
    "## 1. Introduction"
   ]
  },
  {
   "cell_type": "markdown",
   "metadata": {},
   "source": [
    "<p style=\"line-height:1.75;font-size:16px\">\n",
    "In the previous chapters we learned that it is common practice to split the our data into <b>train</b> and <b>test</b> when building a machine learning model. The train data is used to train the model (i.e. learn the parameter values) while the test data is used to validate the results of our final model. If the model performed well on the training data but poorly on the test data we could say that the model suffers from <b>overfitting</b> and that it's probably not a very useful model.<br>\n",
    "While splitting the data into train and test seems like a good solution, it does have some drawbacks:<br>\n",
    "<span style=\"line-height:1.75;font-size:16px\">1. If we have limited data, we might introduce bias into the model by not using all of the data for training.<br>\n",
    "<span style=\"line-height:1.75;font-size:16px\">2. Training the model again according to the results on the test set leads to <b>data leakage</b>.<bR>\n",
    "Cross validation addresses these issues by repeating the training and testing process on different splits of the data and reporting the results for each split."
   ]
  },
  {
   "cell_type": "markdown",
   "metadata": {},
   "source": [
    "<div style=\"line-height:1.75;background:#f6e609;padding-left:20px;padding-top:5px;padding-bottom:5px;border-radius:5px 5px 0px 0px\">\n",
    "<i class=\"fa fa-lightbulb-o\" style=\"font-size: 50px;color:#ffffcc;\"></i>\n",
    "</div>\n",
    "<div>\n",
    "<p style=\"line-height:1.75;font-size:16px;background:#ffffcc;padding:20px;border-radius:0px 0px 5px 5px\">\n",
    "<span style=\"font-size:16px\"><b>Data Leakage</b></span><br>\n",
    "Data leakage is when information from outside the training dataset is used to create the model. This additional information can allow the model to learn or know something that it otherwise would not know and in turn invalidate the estimated performance of the mode being constructed. You can read more about data leakge and how to avoid it <a href=https://machinelearningmastery.com/data-leakage-machine-learning/>here</a>\n",
    "</div>"
   ]
  },
  {
   "cell_type": "markdown",
   "metadata": {},
   "source": [
    "## 2. K-Fold Cross Validation Process"
   ]
  },
  {
   "cell_type": "markdown",
   "metadata": {},
   "source": [
    "<p style=\"line-height:1.75;font-size:16px\">\n",
    "K-fold cross validation is probably the most commonly used method. The k stands for the number of folds (or subsets) we want to split our data into.<br>\n",
    "The process looks something like this:<br>\n",
    "<span style=\"line-height:1.75;font-size:16px\">1. Split our data into $k$ subsets.<br>\n",
    "<span style=\"line-height:1.75;font-size:16px\">2. For each subset:<br>\n",
    "<span style=\"line-height:1.75;font-size:16px\">&nbsp;&nbsp;&nbsp;&nbsp;2.1. Train the model using the remaining $k-1$ subsets.<br>\n",
    "<span style=\"line-height:1.75;font-size:16px\">&nbsp;&nbsp;&nbsp;&nbsp;2.2. Evaluate the model using the current subset.<br>\n",
    "<span style=\"line-height:1.75;font-size:16px\">3. Report the performance across all of the subsets.<br>\n",
    "Once we have the results for all of the splits we can simply calculate their mean in order to get one number which represents our model's performance."
   ]
  },
  {
   "cell_type": "markdown",
   "metadata": {},
   "source": [
    "## 3. Using K-Fold Cross Validation"
   ]
  },
  {
   "cell_type": "markdown",
   "metadata": {},
   "source": [
    "<p style=\"line-height:1.75;font-size:16px\">\n",
    "Let's use the weight prediction example from the previous chapter to demonstrate how to use k-fold cross validation."
   ]
  },
  {
   "cell_type": "code",
   "execution_count": 12,
   "metadata": {},
   "outputs": [
    {
     "data": {
      "text/html": [
       "<div>\n",
       "<style scoped>\n",
       "    .dataframe tbody tr th:only-of-type {\n",
       "        vertical-align: middle;\n",
       "    }\n",
       "\n",
       "    .dataframe tbody tr th {\n",
       "        vertical-align: top;\n",
       "    }\n",
       "\n",
       "    .dataframe thead th {\n",
       "        text-align: right;\n",
       "    }\n",
       "</style>\n",
       "<table border=\"1\" class=\"dataframe\">\n",
       "  <thead>\n",
       "    <tr style=\"text-align: right;\">\n",
       "      <th></th>\n",
       "      <th>Gender</th>\n",
       "      <th>Height</th>\n",
       "      <th>Weight</th>\n",
       "    </tr>\n",
       "  </thead>\n",
       "  <tbody>\n",
       "    <tr>\n",
       "      <th>0</th>\n",
       "      <td>Male</td>\n",
       "      <td>73.847017</td>\n",
       "      <td>241.893563</td>\n",
       "    </tr>\n",
       "    <tr>\n",
       "      <th>1</th>\n",
       "      <td>Male</td>\n",
       "      <td>68.781904</td>\n",
       "      <td>162.310473</td>\n",
       "    </tr>\n",
       "    <tr>\n",
       "      <th>2</th>\n",
       "      <td>Male</td>\n",
       "      <td>74.110105</td>\n",
       "      <td>212.740856</td>\n",
       "    </tr>\n",
       "    <tr>\n",
       "      <th>3</th>\n",
       "      <td>Male</td>\n",
       "      <td>71.730978</td>\n",
       "      <td>220.042470</td>\n",
       "    </tr>\n",
       "    <tr>\n",
       "      <th>4</th>\n",
       "      <td>Male</td>\n",
       "      <td>69.881796</td>\n",
       "      <td>206.349801</td>\n",
       "    </tr>\n",
       "  </tbody>\n",
       "</table>\n",
       "</div>"
      ],
      "text/plain": [
       "  Gender     Height      Weight\n",
       "0   Male  73.847017  241.893563\n",
       "1   Male  68.781904  162.310473\n",
       "2   Male  74.110105  212.740856\n",
       "3   Male  71.730978  220.042470\n",
       "4   Male  69.881796  206.349801"
      ]
     },
     "execution_count": 12,
     "metadata": {},
     "output_type": "execute_result"
    }
   ],
   "source": [
    "import pandas as pd\n",
    "\n",
    "data = pd.read_csv('data/weight-height.csv')\n",
    "data.head()"
   ]
  },
  {
   "cell_type": "code",
   "execution_count": 13,
   "metadata": {},
   "outputs": [
    {
     "data": {
      "text/html": [
       "<div>\n",
       "<style scoped>\n",
       "    .dataframe tbody tr th:only-of-type {\n",
       "        vertical-align: middle;\n",
       "    }\n",
       "\n",
       "    .dataframe tbody tr th {\n",
       "        vertical-align: top;\n",
       "    }\n",
       "\n",
       "    .dataframe thead th {\n",
       "        text-align: right;\n",
       "    }\n",
       "</style>\n",
       "<table border=\"1\" class=\"dataframe\">\n",
       "  <thead>\n",
       "    <tr style=\"text-align: right;\">\n",
       "      <th></th>\n",
       "      <th>Gender</th>\n",
       "      <th>Height</th>\n",
       "      <th>Weight</th>\n",
       "    </tr>\n",
       "  </thead>\n",
       "  <tbody>\n",
       "    <tr>\n",
       "      <th>0</th>\n",
       "      <td>Male</td>\n",
       "      <td>187.571423</td>\n",
       "      <td>109.720985</td>\n",
       "    </tr>\n",
       "    <tr>\n",
       "      <th>1</th>\n",
       "      <td>Male</td>\n",
       "      <td>174.706036</td>\n",
       "      <td>73.622732</td>\n",
       "    </tr>\n",
       "    <tr>\n",
       "      <th>2</th>\n",
       "      <td>Male</td>\n",
       "      <td>188.239668</td>\n",
       "      <td>96.497550</td>\n",
       "    </tr>\n",
       "    <tr>\n",
       "      <th>3</th>\n",
       "      <td>Male</td>\n",
       "      <td>182.196685</td>\n",
       "      <td>99.809504</td>\n",
       "    </tr>\n",
       "    <tr>\n",
       "      <th>4</th>\n",
       "      <td>Male</td>\n",
       "      <td>177.499761</td>\n",
       "      <td>93.598619</td>\n",
       "    </tr>\n",
       "  </tbody>\n",
       "</table>\n",
       "</div>"
      ],
      "text/plain": [
       "  Gender      Height      Weight\n",
       "0   Male  187.571423  109.720985\n",
       "1   Male  174.706036   73.622732\n",
       "2   Male  188.239668   96.497550\n",
       "3   Male  182.196685   99.809504\n",
       "4   Male  177.499761   93.598619"
      ]
     },
     "execution_count": 13,
     "metadata": {},
     "output_type": "execute_result"
    }
   ],
   "source": [
    "inch_to_cm = 2.54\n",
    "pound_to_kg = 0.453592\n",
    "\n",
    "data['Height'] *= inch_to_cm\n",
    "data['Weight'] *= pound_to_kg\n",
    "\n",
    "data.head()"
   ]
  },
  {
   "cell_type": "markdown",
   "metadata": {},
   "source": [
    "<p style=\"line-height:1.75;font-size:16px\">\n",
    "Although we're using cross validation, we're still going to split our dataset into train and test. We do this because although CV helps us get better performance estimations during the training process, we still need to evaluate the final model against data it hasn't seen before."
   ]
  },
  {
   "cell_type": "code",
   "execution_count": 14,
   "metadata": {
    "collapsed": true
   },
   "outputs": [],
   "source": [
    "from sklearn.model_selection import train_test_split\n",
    "\n",
    "train, test = train_test_split(data, train_size=0.8)"
   ]
  },
  {
   "cell_type": "markdown",
   "metadata": {},
   "source": [
    "<p style=\"line-height:1.75;font-size:16px\">\n",
    "As is usually the case, we don't need to implement cross validation on our own, we can simply use `sklearn`'s implementation by calling `cross_val_score` and `cross_val_predict`. "
   ]
  },
  {
   "cell_type": "code",
   "execution_count": 21,
   "metadata": {
    "collapsed": true
   },
   "outputs": [],
   "source": [
    "from sklearn.linear_model import LinearRegression\n",
    "from sklearn.model_selection import cross_val_score, cross_val_predict\n",
    "\n",
    "k = 10\n",
    "clf = LinearRegression()\n",
    "predictions = cross_val_predict(clf, train[['Height']], train[['Weight']], cv=k)\n",
    "scores = cross_val_score(clf, train[['Height']], train[['Weight']], cv=k)"
   ]
  },
  {
   "cell_type": "code",
   "execution_count": 28,
   "metadata": {},
   "outputs": [
    {
     "data": {
      "text/plain": [
       "array([0.86180192, 0.84478952, 0.85748851, 0.85753171, 0.84598591,\n",
       "       0.84765806, 0.8623505 , 0.85454185, 0.86846995, 0.86815275])"
      ]
     },
     "execution_count": 28,
     "metadata": {},
     "output_type": "execute_result"
    }
   ],
   "source": [
    "scores"
   ]
  },
  {
   "cell_type": "code",
   "execution_count": 29,
   "metadata": {},
   "outputs": [
    {
     "data": {
      "text/plain": [
       "array([[72.48808663],\n",
       "       [88.6193667 ],\n",
       "       [93.60965868],\n",
       "       [60.35944979],\n",
       "       [66.62700977],\n",
       "       [79.77895226],\n",
       "       [66.09655905],\n",
       "       [70.79765205],\n",
       "       [97.55541025],\n",
       "       [65.20680073],\n",
       "       [57.18395851],\n",
       "       [62.10439006],\n",
       "       [79.50577109],\n",
       "       [65.05409543],\n",
       "       [84.83592102],\n",
       "       [78.63723641],\n",
       "       [59.14238869],\n",
       "       [69.95649382],\n",
       "       [55.89681356],\n",
       "       [67.9688959 ]])"
      ]
     },
     "execution_count": 29,
     "metadata": {},
     "output_type": "execute_result"
    }
   ],
   "source": [
    "predictions[:20]"
   ]
  },
  {
   "cell_type": "markdown",
   "metadata": {},
   "source": [
    "<div style=\"line-height:1.75;background:#1e7b1e;padding-left:20px;padding-top:5px;padding-bottom:5px;border-radius:5px 5px 0px 0px\">\n",
    "<i class=\"fa fa-pencil\" style=\"font-size:40px;color:#c1f0c1;\"></i>\n",
    "</div>\n",
    "<div>\n",
    "<p style=\"line-height:1.75;font-size:16px;background:#c1f0c1;padding:20px;border-radius:0px 0px 5px 5px\">\n",
    "Using cross validation, train a `DecisionTreeRegressor` on the weights dataset and include the gender as a feature as well. Experiment with different values of $k$ and model parameters (max_depth, max_leaf_nodes,...) and report the mean value. Which model and $k$ value perform best?<br>\n",
    "</div>"
   ]
  },
  {
   "cell_type": "code",
   "execution_count": 37,
   "metadata": {},
   "outputs": [
    {
     "name": "stdout",
     "output_type": "stream",
     "text": [
      "k: 2, max depth: 3, max leaf nodes: 10, score: -0.8896531802424508\n",
      "k: 2, max depth: 3, max leaf nodes: 20, score: -0.8896531802424508\n",
      "k: 2, max depth: 3, max leaf nodes: 50, score: -0.8896531802424508\n",
      "k: 2, max depth: 3, max leaf nodes: 100, score: -0.8896531802424508\n",
      "k: 2, max depth: 5, max leaf nodes: 10, score: -0.8713758985638445\n",
      "k: 2, max depth: 5, max leaf nodes: 20, score: -0.45858344432502707\n",
      "k: 2, max depth: 5, max leaf nodes: 50, score: -0.46626560625231794\n",
      "k: 2, max depth: 5, max leaf nodes: 100, score: -0.46626560625231794\n",
      "k: 2, max depth: 8, max leaf nodes: 10, score: -0.8713758985638445\n",
      "k: 2, max depth: 8, max leaf nodes: 20, score: -0.45858344432502707\n",
      "k: 2, max depth: 8, max leaf nodes: 50, score: -0.4518659324741715\n",
      "k: 2, max depth: 8, max leaf nodes: 100, score: -0.4611869087670952\n",
      "k: 2, max depth: 11, max leaf nodes: 10, score: -0.8713758985638445\n",
      "k: 2, max depth: 11, max leaf nodes: 20, score: -0.45858344432502707\n",
      "k: 2, max depth: 11, max leaf nodes: 50, score: -0.45284895135059533\n",
      "k: 2, max depth: 11, max leaf nodes: 100, score: -0.4648119638857735\n",
      "k: 2, max depth: 15, max leaf nodes: 10, score: -0.8713758985638445\n",
      "k: 2, max depth: 15, max leaf nodes: 20, score: -0.45858344432502707\n",
      "k: 2, max depth: 15, max leaf nodes: 50, score: -0.45284895135059533\n",
      "k: 2, max depth: 15, max leaf nodes: 100, score: -0.4653407778487356\n",
      "k: 3, max depth: 3, max leaf nodes: 10, score: 0.6751159803348425\n",
      "k: 3, max depth: 3, max leaf nodes: 20, score: 0.6751159803348425\n",
      "k: 3, max depth: 3, max leaf nodes: 50, score: 0.6751159803348425\n",
      "k: 3, max depth: 3, max leaf nodes: 100, score: 0.6751159803348425\n",
      "k: 3, max depth: 5, max leaf nodes: 10, score: 0.7103621334662261\n",
      "k: 3, max depth: 5, max leaf nodes: 20, score: 0.7651359156916376\n",
      "k: 3, max depth: 5, max leaf nodes: 50, score: 0.7766537252457514\n",
      "k: 3, max depth: 5, max leaf nodes: 100, score: 0.7766537252457514\n",
      "k: 3, max depth: 8, max leaf nodes: 10, score: 0.7103621334662261\n",
      "k: 3, max depth: 8, max leaf nodes: 20, score: 0.7651359156916376\n",
      "k: 3, max depth: 8, max leaf nodes: 50, score: 0.7796098007089535\n",
      "k: 3, max depth: 8, max leaf nodes: 100, score: 0.7688550175059251\n",
      "k: 3, max depth: 11, max leaf nodes: 10, score: 0.7103621334662261\n",
      "k: 3, max depth: 11, max leaf nodes: 20, score: 0.7651359156916376\n",
      "k: 3, max depth: 11, max leaf nodes: 50, score: 0.7795130981409889\n",
      "k: 3, max depth: 11, max leaf nodes: 100, score: 0.7694274766377752\n",
      "k: 3, max depth: 15, max leaf nodes: 10, score: 0.7103621334662261\n",
      "k: 3, max depth: 15, max leaf nodes: 20, score: 0.7651359156916376\n",
      "k: 3, max depth: 15, max leaf nodes: 50, score: 0.7795130981409889\n",
      "k: 3, max depth: 15, max leaf nodes: 100, score: 0.770300760503408\n",
      "k: 5, max depth: 3, max leaf nodes: 10, score: 0.685411223533342\n",
      "k: 5, max depth: 3, max leaf nodes: 20, score: 0.685411223533342\n",
      "k: 5, max depth: 3, max leaf nodes: 50, score: 0.685411223533342\n",
      "k: 5, max depth: 3, max leaf nodes: 100, score: 0.685411223533342\n",
      "k: 5, max depth: 5, max leaf nodes: 10, score: 0.6869742339776248\n",
      "k: 5, max depth: 5, max leaf nodes: 20, score: 0.743039681119004\n",
      "k: 5, max depth: 5, max leaf nodes: 50, score: 0.7554348439926827\n",
      "k: 5, max depth: 5, max leaf nodes: 100, score: 0.7554348439926827\n",
      "k: 5, max depth: 8, max leaf nodes: 10, score: 0.6869742339776248\n",
      "k: 5, max depth: 8, max leaf nodes: 20, score: 0.743039681119004\n",
      "k: 5, max depth: 8, max leaf nodes: 50, score: 0.7533379935452705\n",
      "k: 5, max depth: 8, max leaf nodes: 100, score: 0.7461775310495279\n",
      "k: 5, max depth: 11, max leaf nodes: 10, score: 0.6869742339776248\n",
      "k: 5, max depth: 11, max leaf nodes: 20, score: 0.743039681119004\n",
      "k: 5, max depth: 11, max leaf nodes: 50, score: 0.7533379935452705\n",
      "k: 5, max depth: 11, max leaf nodes: 100, score: 0.7460977540459437\n",
      "k: 5, max depth: 15, max leaf nodes: 10, score: 0.6869742339776248\n",
      "k: 5, max depth: 15, max leaf nodes: 20, score: 0.743039681119004\n",
      "k: 5, max depth: 15, max leaf nodes: 50, score: 0.7533379935452705\n",
      "k: 5, max depth: 15, max leaf nodes: 100, score: 0.7460977540459437\n",
      "k: 10, max depth: 3, max leaf nodes: 10, score: 0.6422888688634483\n",
      "k: 10, max depth: 3, max leaf nodes: 20, score: 0.6422888688634483\n",
      "k: 10, max depth: 3, max leaf nodes: 50, score: 0.6422888688634483\n",
      "k: 10, max depth: 3, max leaf nodes: 100, score: 0.6422888688634483\n",
      "k: 10, max depth: 5, max leaf nodes: 10, score: 0.6422888688634483\n",
      "k: 10, max depth: 5, max leaf nodes: 20, score: 0.7115473049012289\n",
      "k: 10, max depth: 5, max leaf nodes: 50, score: 0.7233747818694842\n",
      "k: 10, max depth: 5, max leaf nodes: 100, score: 0.7233747818694842\n",
      "k: 10, max depth: 8, max leaf nodes: 10, score: 0.6422888688634483\n",
      "k: 10, max depth: 8, max leaf nodes: 20, score: 0.7115473049012289\n",
      "k: 10, max depth: 8, max leaf nodes: 50, score: 0.7216898529317959\n",
      "k: 10, max depth: 8, max leaf nodes: 100, score: 0.7143970762034786\n",
      "k: 10, max depth: 11, max leaf nodes: 10, score: 0.6422888688634483\n",
      "k: 10, max depth: 11, max leaf nodes: 20, score: 0.7115473049012289\n",
      "k: 10, max depth: 11, max leaf nodes: 50, score: 0.7216898529317959\n",
      "k: 10, max depth: 11, max leaf nodes: 100, score: 0.7137784353404865\n",
      "k: 10, max depth: 15, max leaf nodes: 10, score: 0.6422888688634483\n",
      "k: 10, max depth: 15, max leaf nodes: 20, score: 0.7115473049012289\n",
      "k: 10, max depth: 15, max leaf nodes: 50, score: 0.7216898529317959\n",
      "k: 10, max depth: 15, max leaf nodes: 100, score: 0.7134807541364235\n",
      "k: 20, max depth: 3, max leaf nodes: 10, score: 0.6416021038775052\n",
      "k: 20, max depth: 3, max leaf nodes: 20, score: 0.6416021038775052\n",
      "k: 20, max depth: 3, max leaf nodes: 50, score: 0.6416021038775052\n",
      "k: 20, max depth: 3, max leaf nodes: 100, score: 0.6416021038775052\n",
      "k: 20, max depth: 5, max leaf nodes: 10, score: 0.6631384825254505\n",
      "k: 20, max depth: 5, max leaf nodes: 20, score: 0.7105807103201048\n",
      "k: 20, max depth: 5, max leaf nodes: 50, score: 0.7210607428634879\n",
      "k: 20, max depth: 5, max leaf nodes: 100, score: 0.7210607428634879\n",
      "k: 20, max depth: 8, max leaf nodes: 10, score: 0.6631384825254505\n",
      "k: 20, max depth: 8, max leaf nodes: 20, score: 0.7105807103201048\n",
      "k: 20, max depth: 8, max leaf nodes: 50, score: 0.7196600720729396\n",
      "k: 20, max depth: 8, max leaf nodes: 100, score: 0.7133206106613162\n",
      "k: 20, max depth: 11, max leaf nodes: 10, score: 0.6631384825254505\n",
      "k: 20, max depth: 11, max leaf nodes: 20, score: 0.7105807103201048\n",
      "k: 20, max depth: 11, max leaf nodes: 50, score: 0.7196600720729396\n",
      "k: 20, max depth: 11, max leaf nodes: 100, score: 0.7139675027492046\n",
      "k: 20, max depth: 15, max leaf nodes: 10, score: 0.6631384825254505\n",
      "k: 20, max depth: 15, max leaf nodes: 20, score: 0.7105807103201048\n",
      "k: 20, max depth: 15, max leaf nodes: 50, score: 0.7196600720729396\n",
      "k: 20, max depth: 15, max leaf nodes: 100, score: 0.7140720340349778\n"
     ]
    }
   ],
   "source": [
    "import pandas as pd\n",
    "from sklearn.tree import DecisionTreeRegressor\n",
    "from sklearn.model_selection import cross_val_score\n",
    "\n",
    "data = pd.read_csv('data/weight-height.csv')\n",
    "data = pd.get_dummies(data)\n",
    "k_values = [2, 3, 5, 10, 20]\n",
    "max_depth_values = [3, 5, 8, 11, 15]\n",
    "max_leaf_nodes_values = [10, 20, 50, 100]\n",
    "\n",
    "for k in k_values:\n",
    "    for max_depth in max_depth_values:\n",
    "        for max_leaf_nodes in max_leaf_nodes_values:\n",
    "            clf = DecisionTreeRegressor(max_depth=max_depth, max_leaf_nodes=max_leaf_nodes)\n",
    "            score = cross_val_score(clf, data.drop('Weight', axis=1), data['Weight'], cv=k)\n",
    "            print(f'k: {k}, max depth: {max_depth}, max leaf nodes: {max_leaf_nodes}, score: {score.mean()}')\n",
    "            "
   ]
  },
  {
   "cell_type": "code",
   "execution_count": null,
   "metadata": {
    "collapsed": true
   },
   "outputs": [],
   "source": []
  }
 ],
 "metadata": {
  "kernelspec": {
   "display_name": "Python 3",
   "language": "python",
   "name": "python3"
  },
  "language_info": {
   "codemirror_mode": {
    "name": "ipython",
    "version": 3
   },
   "file_extension": ".py",
   "mimetype": "text/x-python",
   "name": "python",
   "nbconvert_exporter": "python",
   "pygments_lexer": "ipython3",
   "version": "3.6.3"
  }
 },
 "nbformat": 4,
 "nbformat_minor": 2
}
