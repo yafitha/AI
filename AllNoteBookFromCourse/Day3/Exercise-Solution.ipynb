{
 "cells": [
  {
   "cell_type": "markdown",
   "metadata": {},
   "source": [
    "## The Birthday Paradox"
   ]
  },
  {
   "cell_type": "markdown",
   "metadata": {},
   "source": [
    "<p style=\"line-height:1.75;font-size:16px\">\n",
    "In a room with 23 random people, what's the probability that 2 of them share the same birthday? How many people would it take so that the probability will be 95%?<br>\n",
    "Create a plot showing how the probability changes as the amount of people grows."
   ]
  },
  {
   "cell_type": "markdown",
   "metadata": {},
   "source": [
    "<p style=\"line-height:1.75;font-size:16px\">\n",
    "The probability of 1 random person not sharing a birthday (obviously there can't be shared birthdays when there's only 1 person):\n",
    "<center>\n",
    "<h3>\n",
    "$\\frac{365}{365}$\n",
    "</center>\n",
    "</h3>\n",
    "<p style=\"line-height:1.75;font-size:16px\">\n",
    "The probability of 2 random people not sharing a birthday:\n",
    "<center>\n",
    "<h3>\n",
    "$\\frac{365}{365}\\cdot\\frac{364}{365}$\n",
    "</center>\n",
    "</h3>\n",
    "<p style=\"line-height:1.75;font-size:16px\">\n",
    "The probability of 3 random people not sharing a birthday:\n",
    "<center>\n",
    "<h3>\n",
    "$\\frac{365}{365}\\cdot\\frac{364}{365}\\cdot \\frac{363}{365}$\n",
    "</center>\n",
    "</h3>\n",
    "The probability of 23 random people not sharing a birthday:\n",
    "<center>\n",
    "<h3>\n",
    "$\\frac{365}{365}\\cdot\\frac{364}{365}\\cdot \\frac{363}{365}\\cdot\\cdot\\cdot\\frac{365-23+1}{365}=0.4927$\n",
    "</center>\n",
    "</h3>\n",
    "<p style=\"line-height:1.75;font-size:16px\">\n",
    "Now that we have the probability of 23 people <b>not</b> sharing a birthday, in order to get the probability of at least 2 people sharing a birthday we can simply take the complement probability:\n",
    "<center>\n",
    "<h3>\n",
    "$1-0.4927=0.507$\n",
    "</center>\n",
    "</h3>\n",
    "<p style=\"line-height:1.75;font-size:16px\">\n",
    "That means that in a room with 23 people, there is a 50.7% chance that at least 2 people share a birthday.<br>\n",
    "In order to find the number of people that will lead to a 95% chance that at least 2 of them share a birthday, we can simply continue with the multiplication until we reach the required probability."
   ]
  },
  {
   "cell_type": "code",
   "execution_count": 32,
   "metadata": {},
   "outputs": [
    {
     "name": "stdout",
     "output_type": "stream",
     "text": [
      "The number of people that will guarantee a 95% of at least 2 people sharing a birthday: 47\n"
     ]
    }
   ],
   "source": [
    "tot = 1\n",
    "for i in range(1,100):\n",
    "    tot *= (365-i+1)/365\n",
    "    if 1 - tot >= 0.95:\n",
    "        break\n",
    "print(f'The number of people that will guarantee a 95% of at least \\\n",
    "2 people sharing a birthday: {i}')"
   ]
  },
  {
   "cell_type": "markdown",
   "metadata": {},
   "source": [
    "## Spam Detector"
   ]
  },
  {
   "cell_type": "markdown",
   "metadata": {},
   "source": [
    "<p style=\"line-height:1.75;font-size:16px\">\n",
    "You're working on building an email spam detector. For the purpose of building the system you've collected 100 emails and noticed the following:<br>\n",
    "1\\. The word 'offer' appears in 80% of the spam emails and in 10% of the non-spam emails.<br>\n",
    "2\\. Out of all the emails you've collected, 30% of them were spam.<br>\n",
    "If I recieve a new email and it has the work 'offer' in it, what's the probability that it is spam?"
   ]
  },
  {
   "cell_type": "markdown",
   "metadata": {},
   "source": [
    "<p style=\"line-height:1.75;font-size:16px\">\n",
    "To answer this question, we'll use Bayes' theorem.\n",
    "<center>\n",
    "<h3>\n",
    "$P(spam\\mid offer)=\\frac{P(offer\\mid spam)P(spam)}{P(offer)}$\n",
    "</h3>\n",
    "</center>\n",
    "<p style=\"line-height:1.75;font-size:16px\">\n",
    "$P(offer\\mid spam)=0.8$<br>\n",
    "$P(spam)=0.3$<br>\n",
    "$P(offer)=P(offer\\mid spam)P(spam)+P(offer\\mid not~spam)P(not~spam)=0.8\\cdot 0.3 + 0.1\\cdot 0.7=0.31$<br>\n",
    "<center>\n",
    "<h3>\n",
    "$P(spam\\mid offer)=\\frac{0.8\\cdot 0.3}{0.31}=0.774$\n",
    "</h3>\n",
    "</center>"
   ]
  },
  {
   "cell_type": "markdown",
   "metadata": {},
   "source": [
    "## Suitcase Problem"
   ]
  },
  {
   "cell_type": "markdown",
   "metadata": {},
   "source": [
    "<p style=\"line-height:1.75;font-size:16px\">\n",
    "You're planning a trip to Dubai and you need to pack a suitcase. You have 8 shirts, 5 pants and 10 pairs of socks in your closet but your suitcase only has room for 4 shirts, 3 pants and 5 pairs of socks. How many different suitcase combinations do you have?"
   ]
  },
  {
   "cell_type": "markdown",
   "metadata": {},
   "source": [
    "${8}\\choose{4}$${5}\\choose{3}$${10}\\choose{5}$$=176400$"
   ]
  },
  {
   "cell_type": "markdown",
   "metadata": {},
   "source": [
    "## Iris Dataset"
   ]
  },
  {
   "cell_type": "markdown",
   "metadata": {},
   "source": [
    "<p style=\"line-height:1.75;font-size:16px\">\n",
    "Load 'iris.csv' from the data folder. This data describes different measurements of types of iris flowers. Create a scatter plot where the x axis is the sepal length and the y axis is the sepal width. Change the marker size according to the petal length and color the markers by the type of flower."
   ]
  },
  {
   "cell_type": "code",
   "execution_count": 42,
   "metadata": {},
   "outputs": [
    {
     "data": {
      "image/png": "[encoded data removed]",
      "text/plain": [
       "<Figure size 720x576 with 1 Axes>"
      ]
     },
     "metadata": {},
     "output_type": "display_data"
    }
   ],
   "source": [
    "import pandas as pd\n",
    "import matplotlib.pyplot as plt\n",
    "%matplotlib inline\n",
    "\n",
    "iris = pd.read_csv('data/iris.csv')\n",
    "\n",
    "colors = iris['Type'].apply(lambda x: 'r' if x == 'setosa'\n",
    "                            else 'g' if x == 'virginica' \n",
    "                            else 'b')\n",
    "plt.figure(figsize=(10,8))\n",
    "plt.scatter(x=iris['Sepal Length'], \n",
    "            y=iris['Sepal Width'], \n",
    "            s=iris['Petal Length']*10, \n",
    "            c=colors)\n",
    "plt.show()"
   ]
  },
  {
   "cell_type": "markdown",
   "metadata": {},
   "source": [
    "## Hypothesis Testing"
   ]
  },
  {
   "cell_type": "markdown",
   "metadata": {},
   "source": [
    "<p style=\"line-height:1.75;font-size:16px\">\n",
    "Among 157 African-American men ,the mean systolic blood pressure was 146 with a standard deviation of 27.\n",
    "We wish to know if on the basis of this data, we may conclude that the mean systolic blood pressure for a population of African-American is greater than 140. Use $\\alpha=0.01$."
   ]
  },
  {
   "cell_type": "markdown",
   "metadata": {},
   "source": [
    "<p style=\"line-height:1.75;font-size:16px\">\n",
    "$H_0: \\mu=140$<br>\n",
    "$H_1: \\mu>140$\n",
    "<center><h3>\n",
    "$Z=\\frac{\\bar{X}-\\mu}{\\sigma}\\sqrt{n}=\\frac{146-140}{27}\\sqrt{157}=2.784$\n",
    "</h3>\n",
    "</center>\n",
    "<center><h3>\n",
    "$Z_{0.99}=2.326$\n",
    "</h3>\n",
    "</center>\n",
    "<center><h3>\n",
    "$Z > Z_{0.99}\\Rightarrow Reject~the~null~hypothesis$\n",
    "</h3>\n",
    "</center>"
   ]
  }
 ],
 "metadata": {
  "kernelspec": {
   "display_name": "Python 3",
   "language": "python",
   "name": "python3"
  },
  "language_info": {
   "codemirror_mode": {
    "name": "ipython",
    "version": 3
   },
   "file_extension": ".py",
   "mimetype": "text/x-python",
   "name": "python",
   "nbconvert_exporter": "python",
   "pygments_lexer": "ipython3",
   "version": "3.6.3"
  }
 },
 "nbformat": 4,
 "nbformat_minor": 2
}
