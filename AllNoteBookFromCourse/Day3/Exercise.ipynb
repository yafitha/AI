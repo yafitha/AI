{
 "cells": [
  {
   "cell_type": "markdown",
   "metadata": {},
   "source": [
    "## The Birthday Paradox"
   ]
  },
  {
   "cell_type": "markdown",
   "metadata": {},
   "source": [
    "<p style=\"line-height:1.75;font-size:16px\">\n",
    "In a room with 23 random people, what's the probability that 2 of them share the same birthday? How many people would it take so that the probability will be 95%?<br>\n",
    "Create a plot showing how the probability changes as the amount of people grows."
   ]
  },
  {
   "cell_type": "markdown",
   "metadata": {},
   "source": [
    "## Spam Detector"
   ]
  },
  {
   "cell_type": "markdown",
   "metadata": {},
   "source": [
    "<p style=\"line-height:1.75;font-size:16px\">\n",
    "You're working on building an email spam detector. For the purpose of building the system you've collected 100 emails and noticed the following:<br>\n",
    "1\\. The word 'offer' appears in 80% of the spam emails and in 10% of the non-spam emails.<br>\n",
    "2\\. Out of all the emails you've collected, 30% of them were spam.<br>\n",
    "If I recieve a new email and it has the work 'offer' in it, what's the probability that it is spam?"
   ]
  },
  {
   "cell_type": "markdown",
   "metadata": {},
   "source": [
    "## Suitcase Problem"
   ]
  },
  {
   "cell_type": "markdown",
   "metadata": {},
   "source": [
    "<p style=\"line-height:1.75;font-size:16px\">\n",
    "You're planning a trip to Dubai and you need to pack a suitcase. You have 8 shirts, 5 pants and 10 pairs of socks in your closet but your suitcase only has room for 4 shirts, 3 pants and 5 pairs of socks. How many different suitcase combinations do you have?"
   ]
  },
  {
   "cell_type": "markdown",
   "metadata": {},
   "source": [
    "## Iris Dataset"
   ]
  },
  {
   "cell_type": "markdown",
   "metadata": {},
   "source": [
    "<p style=\"line-height:1.75;font-size:16px\">\n",
    "Load 'iris.csv' from the data folder. This data describes different measurements of types of iris flowers. Create a scatter plot where the x axis is the sepal length and the y axis is the sepal width. Change the marker size according to the petal length and color the markers by the type of flower."
   ]
  },
  {
   "cell_type": "markdown",
   "metadata": {},
   "source": [
    "## Hypothesis Testing"
   ]
  },
  {
   "cell_type": "markdown",
   "metadata": {},
   "source": [
    "<p style=\"line-height:1.75;font-size:16px\">\n",
    "Among 157 African-American men ,the mean systolic blood pressure was 146 with a standard deviation of 27.\n",
    "We wish to know if on the basis of this data, we may conclude that the mean systolic blood pressure for a population of African-American is greater than 140. Use $\\alpha=0.01$."
   ]
  },
  {
   "cell_type": "code",
   "execution_count": null,
   "metadata": {
    "collapsed": true
   },
   "outputs": [],
   "source": []
  }
 ],
 "metadata": {
  "kernelspec": {
   "display_name": "Python 3",
   "language": "python",
   "name": "python3"
  },
  "language_info": {
   "codemirror_mode": {
    "name": "ipython",
    "version": 3
   },
   "file_extension": ".py",
   "mimetype": "text/x-python",
   "name": "python",
   "nbconvert_exporter": "python",
   "pygments_lexer": "ipython3",
   "version": "3.6.3"
  }
 },
 "nbformat": 4,
 "nbformat_minor": 2
}
