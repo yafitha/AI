{
 "cells": [
  {
   "attachments": {
    "extrapolation.png": {
     "image/png": "[encoded data removed]"
    }
   },
   "cell_type": "markdown",
   "metadata": {},
   "source": [
    "![extrapolation.png](attachment:extrapolation.png)"
   ]
  },
  {
   "cell_type": "markdown",
   "metadata": {
    "slideshow": {
     "slide_type": "-"
    }
   },
   "source": [
    "# 1. Linear Regression"
   ]
  },
  {
   "cell_type": "markdown",
   "metadata": {
    "slideshow": {
     "slide_type": "-"
    }
   },
   "source": [
    "## 1.1. Introduction"
   ]
  },
  {
   "cell_type": "markdown",
   "metadata": {},
   "source": [
    "<p style=\"line-height:1.75;font-size:16px\">\n",
    "Linear regression is perhaps one of the most well known and well understood algorithms in statistics and machine learning. It is a linear model, e.g. a model that assumes a linear relationship between the input variables $\\mathbf x$ and the single output variable $\\mathbf y$. More specifically, that $\\mathbf y$ can be calculated from a linear combination of the input variables $\\mathbf x$.<br>\n",
    "In its basic form, with only one input variable, a <b>simple linear regression</b> model can be written as:<br>\n",
    "<center><h3>\n",
    "$y=\\beta_0 + \\beta_1x$\n",
    "</h3>\n",
    "</center>\n",
    "<p style=\"line-height:1.75;font-size:16px\">\n",
    "where $\\beta_1$ is the coefficient for the input $\\mathbf x$ and $\\beta_0$ is the intercept (or bias). An example of a simple linear regression model could be a model that given a person's height ($\\mathbf x$) attempts to predict his weight ($\\mathbf y$).<br>\n",
    "A more complex model, that receives several input variables, is known as a <b>multiple linear regression</b> model:<br>\n",
    "<center><h3>\n",
    "$y=\\beta_0 + \\beta_1x_1 + \\beta_2x_2 + ... + \\beta_nx_n$\n",
    "</h3>\n",
    "</center>\n",
    "<p style=\"line-height:1.75;font-size:16px\">\n",
    "where $\\beta_1$ is the coefficient for the input $\\mathbf x_1$, $\\beta_2$ is the coefficient for the input $\\mathbf x_2$ and so forth, and $\\beta_0$ is the intercept (or bias). An example of a multiple linear regression model could be a model that receives a person's height, age and weight and tries to predict his life expectancy.<br>\n",
    "\n",
    "Our goal is to obtain a line that best fits the data. The best fit line is the one for which total prediction error (all data points) is as small as possible.\n",
    "</p>"
   ]
  },
  {
   "cell_type": "code",
   "execution_count": 1,
   "metadata": {},
   "outputs": [
    {
     "data": {
      "application/vnd.jupyter.widget-view+json": {
       "model_id": "b2bdf6bdc35a4de4a2fba69add329ff0",
       "version_major": 2,
       "version_minor": 0
      },
      "text/plain": [
       "A Jupyter Widget"
      ]
     },
     "metadata": {},
     "output_type": "display_data"
    },
    {
     "data": {
      "text/plain": [
       "<function __main__.plot_line>"
      ]
     },
     "execution_count": 1,
     "metadata": {},
     "output_type": "execute_result"
    }
   ],
   "source": [
    "from sklearn.datasets import make_regression\n",
    "import matplotlib.pyplot as plt\n",
    "import numpy as np\n",
    "from ipywidgets import interact\n",
    "%matplotlib inline\n",
    "\n",
    "X, y = make_regression(n_samples=50, n_features=1, noise=20)\n",
    "\n",
    "def plot_line(a, b=10):\n",
    "    fig = plt.figure(figsize=(15,8))\n",
    "    ax = fig.gca()\n",
    "    plt.xlim(-3,5)\n",
    "    plt.ylim(-200, 200)\n",
    "    plt.plot(X, y, '.')\n",
    "\n",
    "    x_vals = np.linspace(-3, 5, 100)\n",
    "    y_vals = [a*x + b for x in x_vals]\n",
    "    ax.plot(x_vals, y_vals, c='r')\n",
    "    plt.show()\n",
    "    \n",
    "interact(plot_line, a=(-100,100,5), b=(-200,200,5))"
   ]
  },
  {
   "cell_type": "markdown",
   "metadata": {},
   "source": [
    "## 1.2. Loss Function"
   ]
  },
  {
   "cell_type": "markdown",
   "metadata": {},
   "source": [
    "<p style=\"line-height:1.75;font-size:16px\">\n",
    "A loss function is a function that maps the values of one or more variables onto a real number associated with the cost of those variables being set with these values. You can think of the loss function as a function that measures the error of our model compared to the actual values (ground truth)."
   ]
  },
  {
   "cell_type": "markdown",
   "metadata": {},
   "source": [
    "<div style=\"line-height:1.75;background:#3464a2;padding-left:20px;padding-top:5px;padding-bottom:5px;border-radius:5px 5px 0px 0px\">\n",
    "<i class=\"fa fa-question\" style=\"font-size:40px;color:#e6f1ff;\"></i>\n",
    "</div>\n",
    "<div>\n",
    "<p style=\"line-height:1.75;font-size:16px;background:#e6f1ff;padding:20px;border-radius:0px 0px 5px 5px\">\n",
    "How do we measure the error of our model? (recall, we are interested in finding a line that best fits the data).\n",
    "</p></div>"
   ]
  },
  {
   "cell_type": "markdown",
   "metadata": {},
   "source": [
    "<p style=\"line-height:1.75;font-size:16px\">\n",
    "We measure the difference between the actual value of the dependent variable and the value predicted by the model. This is known as the <b>residual</b> and it can be written as:\n",
    "</p><p><center><h3>\n",
    "$r_i=y_i - \\hat{y_i} = y_i - (\\beta_0 + \\beta_1x_i)$\n",
    "</h3>\n",
    "<p style=\"line-height:1.75;font-size:16px\">\n",
    "Now that we have our residual we can write our loss function. However, we usually square the residual first (why?):<br>\n",
    "</p><p><center><h3>\n",
    "$Loss_1=(y_i - \\hat{y_i})^2$\n",
    "</h3>\n",
    "<p style=\"line-height:1.75;font-size:16px\">\n",
    "Instead of squaring the residual, we could choose to simplt take its absolute value:<br>\n",
    "</p>\n",
    "<p><center><h3>\n",
    "$Loss_2=\\left|y_i - \\hat{y_i}\\right|$\n",
    "</h3>"
   ]
  },
  {
   "cell_type": "markdown",
   "metadata": {},
   "source": [
    "<div style=\"line-height:1.75;background:#3464a2;padding-left:20px;padding-top:5px;padding-bottom:5px;border-radius:5px 5px 0px 0px\">\n",
    "<i class=\"fa fa-question\" style=\"font-size:40px;color:#e6f1ff;\"></i>\n",
    "</div>\n",
    "<div>\n",
    "<p style=\"line-height:1.75;font-size:16px;background:#e6f1ff;padding:20px;border-radius:0px 0px 5px 5px\">\n",
    "But that only gives us the error for a single datapoint, how do we measure the overall error?\n",
    "</p></div>"
   ]
  },
  {
   "cell_type": "markdown",
   "metadata": {},
   "source": [
    "<p style=\"line-height:1.75;font-size:16px\">\n",
    "The mean of the loss function values across all of our data is called the <b>cost function</b> (<u>note</u>: the loss function and cost function are sometimes used interchangeably). The cost function that uses the squared residual ($Loss_1$) is called the <b>Mean Squared Error.</b><br>\n",
    "</p><p><center><h3>\n",
    "$MSE=\\frac{1}{n}\\sum\\limits_{i=1}^{n}(y_i - \\hat{y_i})^2$\n",
    "</h3>\n",
    "<p style=\"line-height:1.75;font-size:16px\">\n",
    "Since we've squared the errors, the result of the MSE is no longer in the same units as before. It is therefore more common to use the <b>Root Mean Squared Error</b> rather than the MSE:\n",
    "</p><p><center><h3>\n",
    "$RMSE=\\sqrt{\\frac{1}{n}\\sum\\limits_{i=1}^{n}(y_i - \\hat{y_i})^2}$\n",
    "</h3>\n",
    "<p style=\"line-height:1.75;font-size:16px\">\n",
    "The cost function that uses the absolute residual ($Loss_2$) is called the <b>Mean Absolute Error.</b><br>\n",
    "</p><p><center><h3>\n",
    "$MAE=\\frac{1}{n}\\sum\\limits_{i=1}^{n}\\left|y_i - \\hat{y_i}\\right|$\n",
    "</h3>\n",
    "<p style=\"line-height:1.75;font-size:16px\">\n",
    "\n"
   ]
  },
  {
   "cell_type": "markdown",
   "metadata": {},
   "source": [
    "<p style=\"line-height:1.75;font-size:16px\">\n",
    "The method of squaring the residuals, summing them and minimizing the sum is known as <b>least squares</b>.\n",
    "There are other cost functions for regression but RMSE is the one most commonly used."
   ]
  },
  {
   "cell_type": "markdown",
   "metadata": {},
   "source": [
    "<div style=\"line-height:1.75;background:#f6e609;padding-left:20px;padding-top:5px;padding-bottom:5px;border-radius:5px 5px 0px 0px\">\n",
    "<i class=\"fa fa-lightbulb-o\" style=\"font-size: 50px;color:#ffffcc;\"></i>\n",
    "</div>\n",
    "<div>\n",
    "<p style=\"line-height:1.75;font-size:16px;background:#ffffcc;padding:20px;border-radius:0px 0px 5px 5px\">\n",
    "<span style=\"font-size:16px\"><b>Choosing A Cost Function</b></span><br>\n",
    "Although RMSE is the go to option for a regression cost function, there are legitimate cases where you would choose a different one. MAE for example, is better when it comes to handling outliers but it has a constant gradient which is bad for certain algorithms (more on that later in the course). RMSE on the other hand is better when making a large error is much worse than making a small one. As stated, there are other loss functions that are more suitable for certain scenarios but that is beyond our scope. You can read about this topic in <a href=https://heartbeat.fritz.ai/5-regression-loss-functions-all-machine-learners-should-know-4fb140e9d4b0>this post</a>. \n",
    "</p></div>"
   ]
  },
  {
   "cell_type": "markdown",
   "metadata": {
    "collapsed": true
   },
   "source": [
    "## 1.3. Regression Sample Problem"
   ]
  },
  {
   "cell_type": "markdown",
   "metadata": {},
   "source": [
    "<p style=\"line-height:1.75;font-size:16px\">\n",
    "Now that we know the basics of how linear regression works, let's try to solve a sample problem end-to-end. We have a data set composed of the gender, height and weight of a person. We will build a linear regression model that predicts a person's weight based on his height. We'll start by exploring the data and drawing some plots to get a better feel for it.\n",
    "</p>"
   ]
  },
  {
   "cell_type": "markdown",
   "metadata": {},
   "source": [
    "### 1.3.1. Exploration"
   ]
  },
  {
   "cell_type": "code",
   "execution_count": 2,
   "metadata": {},
   "outputs": [
    {
     "data": {
      "text/html": [
       "<div>\n",
       "<style scoped>\n",
       "    .dataframe tbody tr th:only-of-type {\n",
       "        vertical-align: middle;\n",
       "    }\n",
       "\n",
       "    .dataframe tbody tr th {\n",
       "        vertical-align: top;\n",
       "    }\n",
       "\n",
       "    .dataframe thead th {\n",
       "        text-align: right;\n",
       "    }\n",
       "</style>\n",
       "<table border=\"1\" class=\"dataframe\">\n",
       "  <thead>\n",
       "    <tr style=\"text-align: right;\">\n",
       "      <th></th>\n",
       "      <th>Gender</th>\n",
       "      <th>Height</th>\n",
       "      <th>Weight</th>\n",
       "    </tr>\n",
       "  </thead>\n",
       "  <tbody>\n",
       "    <tr>\n",
       "      <th>0</th>\n",
       "      <td>Male</td>\n",
       "      <td>73.847017</td>\n",
       "      <td>241.893563</td>\n",
       "    </tr>\n",
       "    <tr>\n",
       "      <th>1</th>\n",
       "      <td>Male</td>\n",
       "      <td>68.781904</td>\n",
       "      <td>162.310473</td>\n",
       "    </tr>\n",
       "    <tr>\n",
       "      <th>2</th>\n",
       "      <td>Male</td>\n",
       "      <td>74.110105</td>\n",
       "      <td>212.740856</td>\n",
       "    </tr>\n",
       "    <tr>\n",
       "      <th>3</th>\n",
       "      <td>Male</td>\n",
       "      <td>71.730978</td>\n",
       "      <td>220.042470</td>\n",
       "    </tr>\n",
       "    <tr>\n",
       "      <th>4</th>\n",
       "      <td>Male</td>\n",
       "      <td>69.881796</td>\n",
       "      <td>206.349801</td>\n",
       "    </tr>\n",
       "  </tbody>\n",
       "</table>\n",
       "</div>"
      ],
      "text/plain": [
       "  Gender     Height      Weight\n",
       "0   Male  73.847017  241.893563\n",
       "1   Male  68.781904  162.310473\n",
       "2   Male  74.110105  212.740856\n",
       "3   Male  71.730978  220.042470\n",
       "4   Male  69.881796  206.349801"
      ]
     },
     "execution_count": 2,
     "metadata": {},
     "output_type": "execute_result"
    }
   ],
   "source": [
    "import pandas as pd\n",
    "\n",
    "data = pd.read_csv('data/weight-height.csv')\n",
    "data.head()"
   ]
  },
  {
   "cell_type": "markdown",
   "metadata": {},
   "source": [
    "<p style=\"line-height:1.75;font-size:16px\">\n",
    "Looks like the data is given in inches/pounds - let's convert it to centimeters/kilograms"
   ]
  },
  {
   "cell_type": "code",
   "execution_count": 3,
   "metadata": {},
   "outputs": [
    {
     "data": {
      "text/html": [
       "<div>\n",
       "<style scoped>\n",
       "    .dataframe tbody tr th:only-of-type {\n",
       "        vertical-align: middle;\n",
       "    }\n",
       "\n",
       "    .dataframe tbody tr th {\n",
       "        vertical-align: top;\n",
       "    }\n",
       "\n",
       "    .dataframe thead th {\n",
       "        text-align: right;\n",
       "    }\n",
       "</style>\n",
       "<table border=\"1\" class=\"dataframe\">\n",
       "  <thead>\n",
       "    <tr style=\"text-align: right;\">\n",
       "      <th></th>\n",
       "      <th>Gender</th>\n",
       "      <th>Height</th>\n",
       "      <th>Weight</th>\n",
       "    </tr>\n",
       "  </thead>\n",
       "  <tbody>\n",
       "    <tr>\n",
       "      <th>0</th>\n",
       "      <td>Male</td>\n",
       "      <td>187.571423</td>\n",
       "      <td>109.720985</td>\n",
       "    </tr>\n",
       "    <tr>\n",
       "      <th>1</th>\n",
       "      <td>Male</td>\n",
       "      <td>174.706036</td>\n",
       "      <td>73.622732</td>\n",
       "    </tr>\n",
       "    <tr>\n",
       "      <th>2</th>\n",
       "      <td>Male</td>\n",
       "      <td>188.239668</td>\n",
       "      <td>96.497550</td>\n",
       "    </tr>\n",
       "    <tr>\n",
       "      <th>3</th>\n",
       "      <td>Male</td>\n",
       "      <td>182.196685</td>\n",
       "      <td>99.809504</td>\n",
       "    </tr>\n",
       "    <tr>\n",
       "      <th>4</th>\n",
       "      <td>Male</td>\n",
       "      <td>177.499761</td>\n",
       "      <td>93.598619</td>\n",
       "    </tr>\n",
       "  </tbody>\n",
       "</table>\n",
       "</div>"
      ],
      "text/plain": [
       "  Gender      Height      Weight\n",
       "0   Male  187.571423  109.720985\n",
       "1   Male  174.706036   73.622732\n",
       "2   Male  188.239668   96.497550\n",
       "3   Male  182.196685   99.809504\n",
       "4   Male  177.499761   93.598619"
      ]
     },
     "execution_count": 3,
     "metadata": {},
     "output_type": "execute_result"
    }
   ],
   "source": [
    "inch_to_cm = 2.54\n",
    "pound_to_kg = 0.453592\n",
    "\n",
    "data['Height'] *= inch_to_cm\n",
    "data['Weight'] *= pound_to_kg\n",
    "\n",
    "data.head()"
   ]
  },
  {
   "cell_type": "code",
   "execution_count": 4,
   "metadata": {},
   "outputs": [
    {
     "data": {
      "text/plain": [
       "array(['Male', 'Female'], dtype=object)"
      ]
     },
     "execution_count": 4,
     "metadata": {},
     "output_type": "execute_result"
    }
   ],
   "source": [
    "data['Gender'].unique()"
   ]
  },
  {
   "cell_type": "code",
   "execution_count": 5,
   "metadata": {},
   "outputs": [
    {
     "data": {
      "image/png": "[encoded data removed]",
      "text/plain": [
       "<Figure size 1080x576 with 1 Axes>"
      ]
     },
     "metadata": {},
     "output_type": "display_data"
    }
   ],
   "source": [
    "fig = plt.figure(figsize=(15,8))\n",
    "ax = fig.gca()\n",
    "ax.boxplot([data[data['Gender'] == 'Male']['Weight'], data[data['Gender'] == 'Female']['Weight']], labels=['Male', 'Female'])\n",
    "ax.set_title('Weights Boxplot')\n",
    "ax.set_ylabel('Weight (kg)')\n",
    "plt.show()"
   ]
  },
  {
   "cell_type": "code",
   "execution_count": 6,
   "metadata": {},
   "outputs": [
    {
     "data": {
      "image/png": "[encoded data removed]",
      "text/plain": [
       "<Figure size 1080x576 with 1 Axes>"
      ]
     },
     "metadata": {},
     "output_type": "display_data"
    }
   ],
   "source": [
    "fig = plt.figure(figsize=(15,8))\n",
    "ax = fig.gca()\n",
    "ax.boxplot([data[data['Gender'] == 'Male']['Height'], data[data['Gender'] == 'Female']['Height']], labels=['Male', 'Female'])\n",
    "ax.set_title('Heights Boxplot')\n",
    "ax.set_ylabel('Height (kg)')\n",
    "plt.show()"
   ]
  },
  {
   "cell_type": "code",
   "execution_count": 7,
   "metadata": {},
   "outputs": [
    {
     "data": {
      "image/png": "[encoded data removed]",
      "text/plain": [
       "<Figure size 1080x360 with 2 Axes>"
      ]
     },
     "metadata": {},
     "output_type": "display_data"
    }
   ],
   "source": [
    "import matplotlib.pyplot as plt\n",
    "%matplotlib inline\n",
    "\n",
    "fig, ax = plt.subplots(1, 2, figsize=(15,5))\n",
    "ax1, ax2 = ax\n",
    "ax1.hist(x=data.Weight, color='c')\n",
    "ax1.set_title(\"Weight Histogram\")\n",
    "ax1.set_xlabel(\"Weight\")\n",
    "ax1.set_ylabel(\"Count\")\n",
    "\n",
    "ax2.hist(x=data.Height, color='c')\n",
    "ax2.set_title(\"Height Histogram\")\n",
    "ax2.set_xlabel(\"Height\")\n",
    "ax2.set_ylabel(\"Count\")\n",
    "\n",
    "plt.tight_layout()\n",
    "plt.show()"
   ]
  },
  {
   "cell_type": "markdown",
   "metadata": {},
   "source": [
    "<p style=\"line-height:1.75;font-size:16px\">\n",
    "Since our data has both males and females, it would be reasonable to assume that their weights and height have different distributions - let's see if we're correct."
   ]
  },
  {
   "cell_type": "code",
   "execution_count": 8,
   "metadata": {},
   "outputs": [
    {
     "data": {
      "image/png": "[encoded data removed]",
      "text/plain": [
       "<Figure size 1080x360 with 2 Axes>"
      ]
     },
     "metadata": {},
     "output_type": "display_data"
    }
   ],
   "source": [
    "fig, ax = plt.subplots(1, 2, figsize=(15,5))\n",
    "ax1, ax2 = ax\n",
    "\n",
    "data[data.Gender == 'Male'].Height.plot(ax=ax1, kind='hist', color='lightblue', alpha=0.5)\n",
    "data[data.Gender == 'Female'].Height.plot(ax=ax1, kind='hist', color='coral', alpha=0.5)\n",
    "ax1.legend(labels=['Males', 'Females'])\n",
    "ax1.set_title('Distribution of Height')\n",
    "ax1.set_xlabel('Height (cm)')\n",
    "ax1.set_ylabel('Frequency');\n",
    "\n",
    "data[data.Gender == 'Male'].Weight.plot(ax=ax2, kind='hist', color='lightblue', alpha=0.5)\n",
    "data[data.Gender == 'Female'].Weight.plot(ax=ax2, kind='hist', color='coral', alpha=0.5)\n",
    "ax2.legend(labels=['Males', 'Females'])\n",
    "ax2.set_title('Distribution of Weight')\n",
    "ax2.set_xlabel('Weight (kg)')\n",
    "ax2.set_ylabel('Frequency');"
   ]
  },
  {
   "cell_type": "markdown",
   "metadata": {},
   "source": [
    "<p style=\"line-height:1.75;font-size:16px\">\n",
    "Let's visualize the relationship between height and weight. This might also help us understand if we could apply linear regression on this data."
   ]
  },
  {
   "cell_type": "code",
   "execution_count": 9,
   "metadata": {},
   "outputs": [
    {
     "data": {
      "image/png": "[encoded data removed]",
      "text/plain": [
       "<Figure size 1080x720 with 1 Axes>"
      ]
     },
     "metadata": {},
     "output_type": "display_data"
    }
   ],
   "source": [
    "sample_df = data.sample(frac=0.10, random_state=42)\n",
    "\n",
    "plt.figure(figsize=(15,10))\n",
    "plt.scatter(x=sample_df.Height, y=sample_df.Weight, alpha=0.3)\n",
    "plt.xlabel('Height (cm)')\n",
    "plt.ylabel('Weight (kg)')\n",
    "plt.title('Weight by height')\n",
    "plt.show()"
   ]
  },
  {
   "cell_type": "markdown",
   "metadata": {},
   "source": [
    "<div style=\"line-height:1.75;background:#3464a2;padding-left:20px;padding-top:5px;padding-bottom:5px;border-radius:5px 5px 0px 0px\">\n",
    "<i class=\"fa fa-question\" style=\"font-size:40px;color:#e6f1ff;\"></i>\n",
    "</div>\n",
    "<div>\n",
    "<p style=\"line-height:1.75;font-size:16px;background:#e6f1ff;padding:20px;border-radius:0px 0px 5px 5px\">\n",
    "Do you think linear regression will work well here? Why?\n",
    "</p></div>"
   ]
  },
  {
   "cell_type": "markdown",
   "metadata": {},
   "source": [
    "<p style=\"line-height:1.75;font-size:16px\">\n",
    "Let's see the same plot but this time we'll color the individual points according gender. This should give us more insight before we start building our model."
   ]
  },
  {
   "cell_type": "code",
   "execution_count": 10,
   "metadata": {},
   "outputs": [
    {
     "data": {
      "image/png": "[encoded data removed]",
      "text/plain": [
       "<Figure size 1080x720 with 1 Axes>"
      ]
     },
     "metadata": {},
     "output_type": "display_data"
    }
   ],
   "source": [
    "gender_color = sample_df.Gender.apply(lambda x: 'orange' if x=='Male' else 'skyblue')\n",
    "\n",
    "fig = plt.figure(figsize=(15,10))\n",
    "ax = fig.gca()\n",
    "\n",
    "females = sample_df[sample_df.Gender == 'Female']\n",
    "males = sample_df[sample_df.Gender == 'Male']\n",
    "\n",
    "ax.scatter(x=females.Height, y=females.Weight, c='coral' , alpha=0.7, label='Female')\n",
    "ax.scatter(x=males.Height, y=males.Weight, c='lightblue' , alpha=0.7, label='Male')\n",
    "\n",
    "ax.set_xlabel('Height (cm)')\n",
    "ax.set_ylabel('Weight (kg)')\n",
    "ax.set_title('Weight by height')\n",
    "\n",
    "plt.legend()\n",
    "plt.show()"
   ]
  },
  {
   "cell_type": "markdown",
   "metadata": {},
   "source": [
    "<div style=\"line-height:1.75;background:#3464a2;padding-left:20px;padding-top:5px;padding-bottom:5px;border-radius:5px 5px 0px 0px\">\n",
    "<i class=\"fa fa-question\" style=\"font-size:40px;color:#e6f1ff;\"></i>\n",
    "</div>\n",
    "<div>\n",
    "<p style=\"line-height:1.75;font-size:16px;background:#e6f1ff;padding:20px;border-radius:0px 0px 5px 5px\">\n",
    "Do you <b><u>still</u></b> think linear regression will work well here? Why?<br>\n",
    "</p></div>"
   ]
  },
  {
   "cell_type": "markdown",
   "metadata": {},
   "source": [
    "### 1.3.2. Creating a model"
   ]
  },
  {
   "cell_type": "markdown",
   "metadata": {},
   "source": [
    "<p style=\"line-height:1.75;font-size:16px\">\n",
    "It's now time to create our model. In this phase, we try to find the best fitting line using the algorithm we talked about earlier. Luckily we don't have to implement the algorithm ourselves but rather use the `LinearRegression` model from `scikit-learn`."
   ]
  },
  {
   "cell_type": "markdown",
   "metadata": {},
   "source": [
    "<div style=\"line-height:1.75;background:#f6e609;padding-left:20px;padding-top:5px;padding-bottom:5px;border-radius:5px 5px 0px 0px\">\n",
    "<i class=\"fa fa-lightbulb-o\" style=\"font-size: 50px;color:#ffffcc;\"></i>\n",
    "</div>\n",
    "<div>\n",
    "<p style=\"line-height:1.75;font-size:16px;background:#ffffcc;padding:20px;border-radius:0px 0px 5px 5px\">\n",
    "<span style=\"font-size:16px\"><b>Scikit-learn (Sklearn)</b></span><br>\n",
    "Scikit-learn is a free machine learning library for Python. It features various algorithms like support vector machine, random forests, and k-neighbours, and it also supports Python numerical and scientific libraries like NumPy and SciPy. You will definitely be using sklearn as part of you work routine so it's a good idea to familiarize yourself with its capabilities and syntax. To read more about it head on to <a href=https://scikit-learn.org/>https://scikit-learn.org/</a> \n",
    "</p></div>"
   ]
  },
  {
   "cell_type": "markdown",
   "metadata": {
    "collapsed": true,
    "heading_collapsed": true
   },
   "source": [
    "#### 1.3.2.1. Splitting the data"
   ]
  },
  {
   "cell_type": "markdown",
   "metadata": {
    "hidden": true
   },
   "source": [
    "<div style=\"line-height:1.75;background:#3464a2;padding-left:20px;padding-top:5px;padding-bottom:5px;border-radius:5px 5px 0px 0px\">\n",
    "<i class=\"fa fa-question\" style=\"font-size:40px;color:#e6f1ff;\"></i>\n",
    "</div>\n",
    "<div>\n",
    "<p style=\"line-height:1.75;font-size:16px;background:#e6f1ff;padding:20px;border-radius:0px 0px 5px 5px\">\n",
    "Why do we need to split the data into subsets?<br>\n",
    "</p></div>"
   ]
  },
  {
   "cell_type": "markdown",
   "metadata": {
    "hidden": true
   },
   "source": [
    "<p style=\"line-height:1.75;font-size:16px\">\n",
    "When we fit (train) a model, we usually split the data first into subsets:\n",
    "- <span style=\"line-height:1.75;font-size:16px\">\n",
    "<b>Train</b> - this is the main bulk of data which the model will use to adjust (learn) its parameters.\n",
    "- <span style=\"line-height:1.75;font-size:16px\"><b>Validation</b> - used to evaluate the model's performance on the train dataset while tweaking its hyperparmeters.\n",
    "- <span style=\"line-height:1.75;font-size:16px\"><b>Test</b> - used as an unbiased evaluation dataset for the <u>final</u> model."
   ]
  },
  {
   "cell_type": "markdown",
   "metadata": {
    "hidden": true
   },
   "source": [
    "<p style=\"line-height:1.75;font-size:16px\">\n",
    "Using only part of the data for training the model while evaluating it on test data that the model was not trained on, gives us an indication of how much <b>overfitting</b> or <b>underfitting</b> we should expect from the model."
   ]
  },
  {
   "cell_type": "code",
   "execution_count": 11,
   "metadata": {
    "hidden": true
   },
   "outputs": [
    {
     "ename": "FileNotFoundError",
     "evalue": "[Errno 2] No such file or directory: 'data.png'",
     "output_type": "error",
     "traceback": [
      "\u001b[0;31m---------------------------------------------------------------------------\u001b[0m",
      "\u001b[0;31mFileNotFoundError\u001b[0m                         Traceback (most recent call last)",
      "\u001b[0;32m<ipython-input-11-297f99004507>\u001b[0m in \u001b[0;36m<module>\u001b[0;34m()\u001b[0m\n\u001b[1;32m      7\u001b[0m \u001b[0mrcParams\u001b[0m\u001b[0;34m[\u001b[0m\u001b[0;34m'figure.figsize'\u001b[0m\u001b[0;34m]\u001b[0m \u001b[0;34m=\u001b[0m \u001b[0;36m20\u001b[0m \u001b[0;34m,\u001b[0m\u001b[0;36m10\u001b[0m\u001b[0;34m\u001b[0m\u001b[0m\n\u001b[1;32m      8\u001b[0m \u001b[0;34m\u001b[0m\u001b[0m\n\u001b[0;32m----> 9\u001b[0;31m \u001b[0mimg_A\u001b[0m \u001b[0;34m=\u001b[0m \u001b[0mmpimg\u001b[0m\u001b[0;34m.\u001b[0m\u001b[0mimread\u001b[0m\u001b[0;34m(\u001b[0m\u001b[0;34m'data.png'\u001b[0m\u001b[0;34m)\u001b[0m\u001b[0;34m\u001b[0m\u001b[0m\n\u001b[0m\u001b[1;32m     10\u001b[0m \u001b[0mimg_B\u001b[0m \u001b[0;34m=\u001b[0m \u001b[0mmpimg\u001b[0m\u001b[0;34m.\u001b[0m\u001b[0mimread\u001b[0m\u001b[0;34m(\u001b[0m\u001b[0;34m'overfit.png'\u001b[0m\u001b[0;34m)\u001b[0m\u001b[0;34m\u001b[0m\u001b[0m\n\u001b[1;32m     11\u001b[0m \u001b[0mimg_C\u001b[0m \u001b[0;34m=\u001b[0m \u001b[0mmpimg\u001b[0m\u001b[0;34m.\u001b[0m\u001b[0mimread\u001b[0m\u001b[0;34m(\u001b[0m\u001b[0;34m'underfit.png'\u001b[0m\u001b[0;34m)\u001b[0m\u001b[0;34m\u001b[0m\u001b[0m\n",
      "\u001b[0;32m~/Anaconda/anaconda3/lib/python3.6/site-packages/matplotlib/image.py\u001b[0m in \u001b[0;36mimread\u001b[0;34m(fname, format)\u001b[0m\n\u001b[1;32m   1488\u001b[0m                     \u001b[0mresponse\u001b[0m \u001b[0;34m=\u001b[0m \u001b[0mio\u001b[0m\u001b[0;34m.\u001b[0m\u001b[0mBytesIO\u001b[0m\u001b[0;34m(\u001b[0m\u001b[0mresponse\u001b[0m\u001b[0;34m.\u001b[0m\u001b[0mread\u001b[0m\u001b[0;34m(\u001b[0m\u001b[0;34m)\u001b[0m\u001b[0;34m)\u001b[0m\u001b[0;34m\u001b[0m\u001b[0m\n\u001b[1;32m   1489\u001b[0m                 \u001b[0;32mreturn\u001b[0m \u001b[0mimread\u001b[0m\u001b[0;34m(\u001b[0m\u001b[0mresponse\u001b[0m\u001b[0;34m,\u001b[0m \u001b[0mformat\u001b[0m\u001b[0;34m=\u001b[0m\u001b[0mext\u001b[0m\u001b[0;34m)\u001b[0m\u001b[0;34m\u001b[0m\u001b[0m\n\u001b[0;32m-> 1490\u001b[0;31m     \u001b[0;32mwith\u001b[0m \u001b[0mimg_open\u001b[0m\u001b[0;34m(\u001b[0m\u001b[0mfname\u001b[0m\u001b[0;34m)\u001b[0m \u001b[0;32mas\u001b[0m \u001b[0mimage\u001b[0m\u001b[0;34m:\u001b[0m\u001b[0;34m\u001b[0m\u001b[0m\n\u001b[0m\u001b[1;32m   1491\u001b[0m         return (_pil_png_to_float_array(image)\n\u001b[1;32m   1492\u001b[0m                 \u001b[0;32mif\u001b[0m \u001b[0misinstance\u001b[0m\u001b[0;34m(\u001b[0m\u001b[0mimage\u001b[0m\u001b[0;34m,\u001b[0m \u001b[0mPIL\u001b[0m\u001b[0;34m.\u001b[0m\u001b[0mPngImagePlugin\u001b[0m\u001b[0;34m.\u001b[0m\u001b[0mPngImageFile\u001b[0m\u001b[0;34m)\u001b[0m \u001b[0;32melse\u001b[0m\u001b[0;34m\u001b[0m\u001b[0m\n",
      "\u001b[0;32m~/Anaconda/anaconda3/lib/python3.6/site-packages/PIL/ImageFile.py\u001b[0m in \u001b[0;36m__init__\u001b[0;34m(self, fp, filename)\u001b[0m\n\u001b[1;32m    107\u001b[0m         \u001b[0;32mif\u001b[0m \u001b[0misPath\u001b[0m\u001b[0;34m(\u001b[0m\u001b[0mfp\u001b[0m\u001b[0;34m)\u001b[0m\u001b[0;34m:\u001b[0m\u001b[0;34m\u001b[0m\u001b[0m\n\u001b[1;32m    108\u001b[0m             \u001b[0;31m# filename\u001b[0m\u001b[0;34m\u001b[0m\u001b[0;34m\u001b[0m\u001b[0m\n\u001b[0;32m--> 109\u001b[0;31m             \u001b[0mself\u001b[0m\u001b[0;34m.\u001b[0m\u001b[0mfp\u001b[0m \u001b[0;34m=\u001b[0m \u001b[0mopen\u001b[0m\u001b[0;34m(\u001b[0m\u001b[0mfp\u001b[0m\u001b[0;34m,\u001b[0m \u001b[0;34m\"rb\"\u001b[0m\u001b[0;34m)\u001b[0m\u001b[0;34m\u001b[0m\u001b[0m\n\u001b[0m\u001b[1;32m    110\u001b[0m             \u001b[0mself\u001b[0m\u001b[0;34m.\u001b[0m\u001b[0mfilename\u001b[0m \u001b[0;34m=\u001b[0m \u001b[0mfp\u001b[0m\u001b[0;34m\u001b[0m\u001b[0m\n\u001b[1;32m    111\u001b[0m             \u001b[0mself\u001b[0m\u001b[0;34m.\u001b[0m\u001b[0m_exclusive_fp\u001b[0m \u001b[0;34m=\u001b[0m \u001b[0;32mTrue\u001b[0m\u001b[0;34m\u001b[0m\u001b[0m\n",
      "\u001b[0;31mFileNotFoundError\u001b[0m: [Errno 2] No such file or directory: 'data.png'"
     ]
    }
   ],
   "source": [
    "import matplotlib.pyplot as plt\n",
    "import matplotlib.image as mpimg\n",
    "from matplotlib import rcParams\n",
    "\n",
    "%matplotlib inline\n",
    "\n",
    "rcParams['figure.figsize'] = 20 ,10\n",
    "\n",
    "img_A = mpimg.imread('data.png')\n",
    "img_B = mpimg.imread('overfit.png')\n",
    "img_C = mpimg.imread('underfit.png')\n",
    "img_D = mpimg.imread('correct_fit.png')\n",
    "\n",
    "fig, ax = plt.subplots(2,2)\n",
    "ax[0,0].imshow(img_A)\n",
    "ax[0,0].set_title('Data')\n",
    "ax[0,0].set_axis_off()\n",
    "\n",
    "ax[1,0].imshow(img_B)\n",
    "ax[1,0].set_title('Overfit')\n",
    "ax[1,0].set_axis_off()\n",
    "\n",
    "ax[0,1].imshow(img_C)\n",
    "ax[0,1].set_title('Underfit')\n",
    "ax[0,1].set_axis_off()\n",
    "\n",
    "ax[1,1].imshow(img_D)\n",
    "ax[1,1].set_title('Best Fit')\n",
    "ax[1,1].set_axis_off()\n",
    "\n",
    "plt.show()"
   ]
  },
  {
   "cell_type": "markdown",
   "metadata": {
    "hidden": true
   },
   "source": [
    "<div style=\"line-height:1.75;background:#f6e609;padding-left:20px;padding-top:5px;padding-bottom:5px;border-radius:5px 5px 0px 0px\">\n",
    "<i class=\"fa fa-lightbulb-o\" style=\"font-size: 50px;color:#ffffcc;\"></i>\n",
    "</div>\n",
    "<div>\n",
    "<p style=\"line-height:1.75;font-size:16px;background:#ffffcc;padding:20px;border-radius:0px 0px 5px 5px\">\n",
    "<span style=\"font-size:16px\"><b>Train/Validation/Test Split</b></span><br>\n",
    "Splitting the data into 3 subsets is very common when building machine learning models. Knowing when to split and how to split could greatly affect the results of your models so you should definitely read more about this topic: <a href=https://towardsdatascience.com/train-test-split-and-cross-validation-in-python-80b61beca4b6>here</a> and <a href=https://machinelearningmastery.com/train-test-split-for-evaluating-machine-learning-algorithms/>here</a>.<br><br>\n",
    "\n",
    "<span style=\"font-size:16px\"><b>Overfitting/Underfitting</b></span><br>\n",
    "Overfitting and underfitting are also terms that you'll come across a lot. In a nutshell, overfitting is a term used to describe the case where your model performs well on the data it was trained on but doesn't perform as well on new data is hasn't seen before (i.e. test set). Underfitting, on the other hand, is used to describe the scenario where the model performs poorly on the data it was trained on (and most likely on other data it hasn't seen before). This is usually due to insufficient training examples or lack of model complexity. You can read more about this topic <a href=https://towardsdatascience.com/what-are-overfitting-and-underfitting-in-machine-learning-a96b30864690>here</a>.\n",
    "</p>\n",
    "\n",
    "</div>"
   ]
  },
  {
   "cell_type": "markdown",
   "metadata": {
    "hidden": true
   },
   "source": [
    "<p style=\"line-height:1.75;font-size:16px\">\n",
    "Now that we've understood the importance of splitting the data let's write the code that does it. Since we're going to be using a simple linear regression model without tuning its hyperparameters, we only need to split the data into train and test with a 0.8/0.2 ratio (this is a common ratio but other ratios like 0.7/0.3 are also widely used - it depends on your data and the model you're trying to build)."
   ]
  },
  {
   "cell_type": "code",
   "execution_count": null,
   "metadata": {
    "collapsed": true,
    "hidden": true
   },
   "outputs": [],
   "source": [
    "from sklearn.model_selection import train_test_split\n",
    "\n",
    "train, test = train_test_split(data, train_size=0.8)"
   ]
  },
  {
   "cell_type": "markdown",
   "metadata": {},
   "source": [
    "#### 1.3.2.2. Fitting the model"
   ]
  },
  {
   "cell_type": "code",
   "execution_count": null,
   "metadata": {
    "collapsed": true
   },
   "outputs": [],
   "source": [
    "from sklearn.linear_model import LinearRegression\n",
    "\n",
    "# Instantiating the model\n",
    "lr = LinearRegression()\n",
    "\n",
    "# Fit the model\n",
    "lr.fit(train[['Height']], train[['Weight']])"
   ]
  },
  {
   "cell_type": "markdown",
   "metadata": {},
   "source": [
    "#### 1.3.2.3. Evaluating the model"
   ]
  },
  {
   "cell_type": "markdown",
   "metadata": {},
   "source": [
    "<p style=\"line-height:1.75;font-size:16px\">\n",
    "The model has now been fit to the data and we can evalute its results. We'll start by printing the intercept ($\\beta_0$) and the coefficient ($\\beta_1$)."
   ]
  },
  {
   "cell_type": "code",
   "execution_count": null,
   "metadata": {
    "collapsed": true
   },
   "outputs": [],
   "source": [
    "print(f'Intercept: {lr.intercept_}\\nCoefficient: {lr.coef_}')"
   ]
  },
  {
   "cell_type": "markdown",
   "metadata": {},
   "source": [
    "<p style=\"line-height:1.75;font-size:16px\">\n",
    "If we plug in these numbers into our original equation we'll get:<br>\n",
    "<center><h3>\n",
    "$y=-159.4 + 1.38x$\n",
    "</h3>\n",
    "</center>\n",
    "<p style=\"line-height:1.75;font-size:16px\">\n",
    "So if, for instance, we have a person who's height is 175 cm we would use the equation and predict that his weight is 82.7 kg:\n",
    "<center><h3>\n",
    "$y=-159.4 + 1.38\\cdot 175 = 82.7$\n",
    "</h3>\n",
    "</center>\n",
    "<p style=\"line-height:1.75;font-size:16px\">\n",
    "We'll now plot the regression line on top of our data points to get a better visualization of the model's performance."
   ]
  },
  {
   "cell_type": "code",
   "execution_count": null,
   "metadata": {
    "collapsed": true
   },
   "outputs": [],
   "source": [
    "sample_df = data.sample(frac=0.10, random_state=42)\n",
    "\n",
    "# Calculate two points through which we'll draw the regression line\n",
    "x1 = 140\n",
    "x2 = 190\n",
    "y1 = -159.4 + 1.38 * x1\n",
    "y2 = -159.4 + 1.38 * x2\n",
    "\n",
    "plt.figure(figsize=(15,10))\n",
    "plt.scatter(x=sample_df.Height, y=sample_df.Weight, alpha=0.3)\n",
    "plt.plot((x1, x2), (y1, y2), 'r-')\n",
    "plt.xlabel('Height (cm)')\n",
    "plt.ylabel('Weight (kg)')\n",
    "plt.title('Weight by height')\n",
    "\n",
    "plt.show()"
   ]
  },
  {
   "cell_type": "markdown",
   "metadata": {},
   "source": [
    "<p style=\"line-height:1.75;font-size:16px\">\n",
    "It looks like our model fits the data pretty well! To get a better feel of how well, we could calculate a couple of other metrics.<br>\n",
    "<b>Root Mean Square Error (RMSE)</b> is the standard deviation of the residuals (prediction errors). Residuals are a measure of how far from the regression line data points are. RMSE is a measure of how spread out these residuals are. In other words, it tells you how concentrated the data is around the line of best fit.<br>\n",
    "<center><h3>\n",
    "$RMSE=\\sqrt{\\frac{1}{n}\\sum\\limits_{i=1}^{n} (\\hat y_i - y_i)^2}$\n",
    "</h3>\n",
    "</center>\n",
    "<p style=\"line-height:1.75;font-size:16px\">\n",
    "The <b>Coefficient of Determination ($R^2$)</b> is the proportion of the variance in the dependent variable that is predictable from the independent variable. $R^2$ will always yield a number between 0 and 1 where 0 means that none of the variation can be explained by the indepent variable and 1 means that all of the variation can be explained by it.\n",
    "<center><h3>\n",
    "$SS_{tot}=\\sum\\limits_{i=1}^{n} (\\hat y_i - \\bar y)^2$<p>\n",
    "<center>\n",
    "$SS_{res}=\\sum\\limits_{i=1}^{n} (\\hat y_i - y_i)^2$<p>\n",
    "<center>\n",
    "\n",
    "$R^2=1 - \\frac{SS_{res}}{SS_{tot}}$\n",
    "\n",
    "</h3>\n",
    "</center>\n",
    "\n",
    "<p style=\"line-height:1.75;font-size:16px\">\n",
    "Let's calculate these values using Sklearn's built-in methods."
   ]
  },
  {
   "cell_type": "code",
   "execution_count": null,
   "metadata": {
    "collapsed": true
   },
   "outputs": [],
   "source": [
    "from sklearn.metrics import r2_score, mean_squared_error\n",
    "import numpy as np\n",
    "\n",
    "y_true = train['Weight']\n",
    "y_predicted = lr.predict(train[['Height']])\n",
    "rmse = np.sqrt(mean_squared_error(y_true, y_predicted))\n",
    "r_squared = r2_score(y_true, y_predicted)\n",
    "\n",
    "print(f'The RMSE is: {rmse:.1f}. This means that, on average, our predictions are off by {rmse:.1f} kilograms')\n",
    "print(f'The R-squared score is: {r_squared:.2f}. This means that {(r_squared * 100):.0f}% of the variation in weight can be explained by the height')"
   ]
  },
  {
   "cell_type": "markdown",
   "metadata": {},
   "source": [
    "#### 1.3.2.4. Validating the model"
   ]
  },
  {
   "cell_type": "markdown",
   "metadata": {},
   "source": [
    "<p style=\"line-height:1.75;font-size:16px\">\n",
    "Recall that earlier we split our data into train and test but until now we've only used the train data. We said that the test data is used to estimate the performance of our model on new data. To do this, we'll calculate the same metrics we've calculated in the previous step only this time we'll use the test data."
   ]
  },
  {
   "cell_type": "code",
   "execution_count": null,
   "metadata": {
    "collapsed": true
   },
   "outputs": [],
   "source": [
    "y_true = test['Weight']\n",
    "y_predicted = lr.predict(test[['Height']])\n",
    "rmse = np.sqrt(mean_squared_error(y_true, y_predicted))\n",
    "r_squared = r2_score(y_true, y_predicted)\n",
    "\n",
    "print(f'The RMSE is: {rmse:.1f}. This means that, on average, our predictions are off by {rmse:.1f} kilograms')\n",
    "print(f'The R-squared score is: {r_squared:.2f}. This means that {(r_squared * 100):.0f}% of the variation in weight can be explained by the height')"
   ]
  },
  {
   "cell_type": "markdown",
   "metadata": {},
   "source": [
    "<p style=\"line-height:1.75;font-size:16px\">\n",
    "We're getting similar results for both the train and test data which is what we want. It means that there is no overfitting and that the model generalizes well."
   ]
  },
  {
   "cell_type": "markdown",
   "metadata": {},
   "source": [
    "<div style=\"line-height:1.75;background:#1e7b1e;padding-left:20px;padding-top:5px;padding-bottom:5px;border-radius:5px 5px 0px 0px\">\n",
    "<i class=\"fa fa-pencil\" style=\"font-size:40px;color:#c1f0c1;\"></i>\n",
    "</div>\n",
    "<div>\n",
    "<p style=\"line-height:1.75;font-size:16px;background:#c1f0c1;padding:20px;border-radius:0px 0px 5px 5px\">\n",
    "Train separate linear regression models for the male population and the female population. Report the following:<br>\n",
    "1. Linear regression equation.<br>\n",
    "2. RMSE and R2 values.<br>\n",
    "3. Display a scatter plot showing the fitted regression line.<br>\n",
    "Do these model perform better than the original one? Why? \n",
    "</p></div>"
   ]
  },
  {
   "cell_type": "markdown",
   "metadata": {},
   "source": [
    "# 2. Multiple Linear Regression"
   ]
  },
  {
   "cell_type": "markdown",
   "metadata": {},
   "source": [
    "<p style=\"line-height:1.75;font-size:16px\">\n",
    "Up until now we've used linear regression to build a simple model which yields a prediction (a person's weight) by using a single input variable (a person's height). However, for the most part, real life problems tend to be more complex and involve many more variables. For instance, when predicting someone's weight, besides using a person's height it might also be useful to know the person's gender, activity level and age for example - that's where multiple linear regression comes in. In the introduction we saw that multiple linear regression is simply a generalization of the linear regression equation:<br>\n",
    "<center><h3>\n",
    "$y=\\beta_0 + \\beta_1x_1 + \\beta_2x_2 + ... + \\beta_nx_n$\n",
    "</h3>\n",
    "</center>\n",
    "<p style=\"line-height:1.75;font-size:16px\">\n",
    "where $x_1, x_2, ..., x_n$ each represent a different variable used in the model (height, age, gender...). <br>\n",
    "In this section we'll build a mutliple linear regression model using the <a href=https://www.kaggle.com/camnugent/california-housing-prices>California housing prices dataset</a> from Kaggle. This dataset has contains housing information such as population, median income, total rooms and median house value - aggregated by blocks. Our goal will be to predict the median house value using the other available variables."
   ]
  },
  {
   "cell_type": "code",
   "execution_count": null,
   "metadata": {
    "collapsed": true
   },
   "outputs": [],
   "source": [
    "housing_df = pd.read_csv('housing.csv')\n",
    "housing_df.dropna(inplace=True)\n",
    "housing_df.head()"
   ]
  },
  {
   "cell_type": "markdown",
   "metadata": {},
   "source": [
    "<p style=\"line-height:1.75;font-size:16px\">\n",
    "We can use a pairplot to identify interesting relationships in our data"
   ]
  },
  {
   "cell_type": "code",
   "execution_count": null,
   "metadata": {
    "collapsed": true
   },
   "outputs": [],
   "source": [
    "import seaborn as sns\n",
    "\n",
    "sns.pairplot(housing_df)"
   ]
  },
  {
   "cell_type": "markdown",
   "metadata": {},
   "source": [
    "<div style=\"line-height:1.75;background:#990000;padding-left:20px;padding-top:5px;padding-bottom:5px;border-radius:5px 5px 0px 0px\">\n",
    "<i class=\"fa fa-exclamation-triangle\" style=\"font-size:40px;color:#ffb3b3;\"></i>\n",
    "</div>\n",
    "<div>\n",
    "<p style=\"line-height:1.75;font-size:16px;background:#ffb3b3;padding:20px;border-radius:0px 0px 5px 5px\">\n",
    "Notice how some of the variables like number of rooms and number of bedrooms have a linear relationship meaning they are highly correlated. We refer to this as <b>multicollinearity</b> and it can be a serious issue when trying to build a multiple linear regression model. Understanding the effects of multicollinearity is beyond our scope but in essence it means that least squares (and other methods) will have a hard time understanding the effect of each single independent variable on the the dependant variable. This will lead to higher error rates and to evaluation metrics that we can't trust. You can read more about multicollinearity <a href=https://statisticsbyjim.com/regression/multicollinearity-in-regression-analysis/>here</a>.\n",
    "</p></div>"
   ]
  },
  {
   "cell_type": "markdown",
   "metadata": {},
   "source": [
    "<p style=\"line-height:1.75;font-size:16px\">\n",
    "Before we start training our model, there's one issue we need to address. The `ocean_proximity` variable is a categorical variable which can't be used directly by a linear regression model. We'll have to translate it into something the model can work with."
   ]
  },
  {
   "cell_type": "markdown",
   "metadata": {},
   "source": [
    "<div style=\"line-height:1.75;background:#3464a2;padding-left:20px;padding-top:5px;padding-bottom:5px;border-radius:5px 5px 0px 0px\">\n",
    "<i class=\"fa fa-question\" style=\"font-size:40px;color:#e6f1ff;\"></i>\n",
    "</div>\n",
    "<div>\n",
    "<p style=\"line-height:1.75;font-size:16px;background:#e6f1ff;padding:20px;border-radius:0px 0px 5px 5px\">\n",
    "How can we change our categorical variable so that the linear regression model will be able to use it?<br>\n",
    "</p></div>"
   ]
  },
  {
   "cell_type": "markdown",
   "metadata": {},
   "source": [
    "<p style=\"line-height:1.75;font-size:16px\">\n",
    "We'll use <b>dummy variables</b> to represent our categorical variable. A dummy variable is a boolean variable that represents one category in our categorical variable. For example, in our case, if a record has the value of 'Near Bay' in the categorical `ocean proximity` variable, then the dummy variable representing 'Near Bay' would be set to 1 and the rest of the dummy variables will be 0. In order to represent a categorical variable with 5 possible values we would need 4 dummy variables (why not 5?)."
   ]
  },
  {
   "cell_type": "code",
   "execution_count": null,
   "metadata": {
    "collapsed": true
   },
   "outputs": [],
   "source": [
    "housing_df = pd.get_dummies(housing_df)\n",
    "housing_df.head()"
   ]
  },
  {
   "cell_type": "markdown",
   "metadata": {},
   "source": [
    "<p style=\"line-height:1.75;font-size:16px\">\n",
    "By default, `get_dummies` will look for columns of type category or object and transform them into dummy variables. We can override this behaviour by specifying the columns we are interested in transforming.<br> We are now ready to build our model following the same steps we took earlier."
   ]
  },
  {
   "cell_type": "code",
   "execution_count": null,
   "metadata": {
    "collapsed": true
   },
   "outputs": [],
   "source": [
    "# Split the data into train/test\n",
    "housing_train, housing_test = train_test_split(housing_df, train_size=0.8)\n",
    "\n",
    "# Instantiate the model\n",
    "lr = LinearRegression()\n",
    "\n",
    "# Fit the model\n",
    "lr.fit(housing_train.drop(['median_house_value'], axis=1), housing_train[['median_house_value']])\n",
    "\n",
    "print(f'Intercept: {lr.intercept_}\\nCoefficients: {lr.coef_}')"
   ]
  },
  {
   "cell_type": "markdown",
   "metadata": {},
   "source": [
    "<div style=\"line-height:1.75;background:#3464a2;padding-left:20px;padding-top:5px;padding-bottom:5px;border-radius:5px 5px 0px 0px\">\n",
    "<i class=\"fa fa-question\" style=\"font-size:40px;color:#e6f1ff;\"></i>\n",
    "</div>\n",
    "<div>\n",
    "<p style=\"line-height:1.75;font-size:16px;background:#e6f1ff;padding:20px;border-radius:0px 0px 5px 5px\">\n",
    "Can you tell which variables are more important in our regression model? How?<br>\n",
    "</p></div>"
   ]
  },
  {
   "cell_type": "code",
   "execution_count": null,
   "metadata": {
    "collapsed": true
   },
   "outputs": [],
   "source": [
    "from sklearn.metrics import r2_score, mean_squared_error\n",
    "import numpy as np\n",
    "\n",
    "y_true = housing_train['median_house_value']\n",
    "y_predicted = lr.predict(housing_train.drop(['median_house_value'], axis=1))\n",
    "rmse = np.sqrt(mean_squared_error(y_true, y_predicted))\n",
    "r_squared = r2_score(y_true, y_predicted)\n",
    "\n",
    "print(f'The RMSE is: {rmse:.1f}. This means that, on average, our predictions are off by ${rmse:.1f}')\n",
    "print(f'The R-squared score is: {r_squared:.2f}. This means that {(r_squared * 100):.0f}% of the variation in weight can be explained by the independent variables')"
   ]
  },
  {
   "cell_type": "code",
   "execution_count": null,
   "metadata": {
    "collapsed": true
   },
   "outputs": [],
   "source": [
    "from sklearn.metrics import r2_score, mean_squared_error\n",
    "import numpy as np\n",
    "\n",
    "y_true = housing_test['median_house_value']\n",
    "y_predicted = lr.predict(housing_test.drop(['median_house_value'], axis=1))\n",
    "rmse = np.sqrt(mean_squared_error(y_true, y_predicted))\n",
    "r_squared = r2_score(y_true, y_predicted)\n",
    "\n",
    "print(f'The RMSE is: {rmse:.1f}. This means that, on average, our predictions are off by ${rmse:.1f}')\n",
    "print(f'The R-squared score is: {r_squared:.2f}. This means that {(r_squared * 100):.0f}% of the variation in weight can be explained by the independent variables')"
   ]
  },
  {
   "cell_type": "markdown",
   "metadata": {},
   "source": [
    "<p style=\"line-height:1.75;font-size:16px\">\n",
    "Since we are dealing with high-dimensional data, we can't plot it like we did for the simple linear regression model. However, we can still plot a somewhat useful visualization that will give us some indication of our model's performance."
   ]
  },
  {
   "cell_type": "code",
   "execution_count": null,
   "metadata": {
    "collapsed": true
   },
   "outputs": [],
   "source": [
    "# Coordinates for drawing a straight line with a slope of 1\n",
    "x1 = 0\n",
    "x2 = 500000\n",
    "y1 = 0\n",
    "y2 = 500000\n",
    "\n",
    "plt.figure(figsize=(15,10))\n",
    "plt.scatter(x=y_true, y=y_predicted, alpha=0.3)\n",
    "plt.plot((x1, x2), (y1, y2), 'r-')\n",
    "plt.xlabel('Median House Value (True)')\n",
    "plt.ylabel('Median House Value (Predicted)')\n",
    "plt.title('Median House Value - True vs. Predicted')\n",
    "\n",
    "plt.show()"
   ]
  },
  {
   "cell_type": "markdown",
   "metadata": {},
   "source": [
    "<div style=\"line-height:1.75;background:#1e7b1e;padding-left:20px;padding-top:5px;padding-bottom:5px;border-radius:5px 5px 0px 0px\">\n",
    "<i class=\"fa fa-pencil\" style=\"font-size:40px;color:#c1f0c1;\"></i>\n",
    "</div>\n",
    "<div>\n",
    "<p style=\"line-height:1.75;font-size:16px;background:#c1f0c1;padding:20px;border-radius:0px 0px 5px 5px\">\n",
    "Train a multiple linear regression model on the weights dataset using the gender as another variable. Report the following:<br>\n",
    "1. Linear regression equation.<br>\n",
    "2. RMSE and R2 values.<br>\n",
    "3. Display a scatter plot showing the predicted values vs. the actual values.<br>\n",
    "How does this model compare to the simple linear regression models you've built earlier?\n",
    "</p></div>"
   ]
  },
  {
   "cell_type": "markdown",
   "metadata": {
    "heading_collapsed": true
   },
   "source": [
    "# 3. Regression Trees"
   ]
  },
  {
   "cell_type": "markdown",
   "metadata": {
    "heading_collapsed": true,
    "hidden": true
   },
   "source": [
    "## 3.1. Introduction"
   ]
  },
  {
   "cell_type": "markdown",
   "metadata": {
    "collapsed": true,
    "hidden": true
   },
   "source": [
    "<p style=\"line-height:1.75;font-size:16px\">\n",
    "Up until now we've learned how to fit a linear regression model which relies on one major assumption: <b>each term is either a constant or the product of a parameter and a predictor variable</b>. So while we think of linear regression as being straight line that's not necessarily true since it can produce curves. For example, the following equations are all valid linear regression equations:\n",
    "<center>\n",
    "<h3>\n",
    "$y=\\beta_0 + \\beta_1x_1 + \\beta_2x_2$ <p>\n",
    "<center>\n",
    "$y=\\beta_0 + \\beta_1x_1^2 + \\beta_2x_2$<p>\n",
    "</center>\n",
    "<center>\n",
    "$y=\\beta_0 + \\beta_1x_1^2 + \\beta_2x_2^3$\n",
    "</center>\n",
    "</h3>\n",
    "</center>\n",
    "<p style=\"line-height:1.75;font-size:16px\">\n",
    "We can see that linear regression can produce complex curves in when fitting the data. However, in order for it to work, it must be linear in its parameters ($\\beta_1, \\beta_2, ...)$. For instance, the following equations are examples of non-linear regression:\n",
    "<center>\n",
    "<h3>\n",
    "$y=\\beta_1x_1^{\\beta_2}$ <p>\n",
    "<center>\n",
    "$y=\\beta_1\\cos(x_1 + \\beta_2)$<p>\n",
    "</center>\n",
    "</h3>\n",
    "</center>\n",
    "<p style=\"line-height:1.75;font-size:16px\">\n",
    "There are various algorithms that can peform non-linear regression (there is even a non-linear version of least squares), but in this chapter we will focus on regression trees."
   ]
  },
  {
   "cell_type": "markdown",
   "metadata": {
    "heading_collapsed": true,
    "hidden": true
   },
   "source": [
    "## 3.2. Regression Tree Overview"
   ]
  },
  {
   "cell_type": "markdown",
   "metadata": {
    "hidden": true
   },
   "source": [
    "<p style=\"line-height:1.75;font-size:16px\">\n",
    "A regression tree builds the regression model in the form of a tree structure by breaking down the dataset into smaller subsets at each level. The decision tree contains two types of nodes: <br>\n",
    "1. <span style=\"line-height:1.75;font-size:16px\">\n",
    "<b>Decision node</b> - A node that has a boolean criterion and two output child nodes (<i>if condition x then child 1 else child2</i>)<br>\n",
    "2. <span style=\"line-height:1.75;font-size:16px\"><b>Leaf node</b> - A final node which simply holds the samples that reached it by traversing the tree."
   ]
  },
  {
   "attachments": {
    "regression_tree.png": {
     "image/png": "[encoded data removed]"
    }
   },
   "cell_type": "markdown",
   "metadata": {
    "hidden": true
   },
   "source": [
    "![regression_tree.png](attachment:regression_tree.png)"
   ]
  },
  {
   "cell_type": "markdown",
   "metadata": {
    "hidden": true
   },
   "source": [
    "## 3.3. Regression Tree Example"
   ]
  },
  {
   "cell_type": "markdown",
   "metadata": {
    "hidden": true
   },
   "source": [
    "<p style=\"line-height:1.75;font-size:16px\">\n",
    "In this example we'll use the <a href=https://www.kaggle.com/ranjeetjain3/seaborn-tips-dataset>tips dataset</a> from Kaggle. This dataset contains several features such as bill amount, gender of payer and size of party and the target variable which is the tip amount. We will train a regression tree on this data which will hopefully yield good predictions for the tip amount. "
   ]
  },
  {
   "cell_type": "markdown",
   "metadata": {
    "hidden": true
   },
   "source": [
    "### 3.3.1. Pre-Processing"
   ]
  },
  {
   "cell_type": "code",
   "execution_count": null,
   "metadata": {
    "collapsed": true,
    "hidden": true
   },
   "outputs": [],
   "source": [
    "import pandas as pd\n",
    "\n",
    "tips_df = pd.read_csv('data/tips.csv')\n",
    "tips_df.head()"
   ]
  },
  {
   "cell_type": "markdown",
   "metadata": {
    "hidden": true
   },
   "source": [
    "<p style=\"line-height:1.75;font-size:16px\">\n",
    "We'll need to encode the text variables as numbers in order for the algorithm to be able to handle them. The `sex` and `smoker` variables are pretty straightforward:"
   ]
  },
  {
   "cell_type": "code",
   "execution_count": null,
   "metadata": {
    "collapsed": true,
    "hidden": true
   },
   "outputs": [],
   "source": [
    "tips_df['sex'] = tips_df['sex'].apply(lambda x: 1 if x == 'Female' else 0)\n",
    "tips_df['smoker'] = tips_df['smoker'].apply(lambda x: 1 if x == 'Yes' else 0)"
   ]
  },
  {
   "cell_type": "markdown",
   "metadata": {
    "hidden": true
   },
   "source": [
    "<p style=\"line-height:1.75;font-size:16px\">\n",
    "Now let's look at the possible values for `day` and `time`:"
   ]
  },
  {
   "cell_type": "code",
   "execution_count": null,
   "metadata": {
    "collapsed": true,
    "hidden": true
   },
   "outputs": [],
   "source": [
    "print(tips_df['day'].unique())\n",
    "print(tips_df['time'].unique())"
   ]
  },
  {
   "cell_type": "markdown",
   "metadata": {
    "hidden": true
   },
   "source": [
    "<p style=\"line-height:1.75;font-size:16px\">\n",
    "The time variable is, once again, pretty straightforward:"
   ]
  },
  {
   "cell_type": "code",
   "execution_count": null,
   "metadata": {
    "collapsed": true,
    "hidden": true
   },
   "outputs": [],
   "source": [
    "tips_df['time'] = tips_df['time'].apply(lambda x: 1 if x == 'Dinner' else 0)"
   ]
  },
  {
   "cell_type": "markdown",
   "metadata": {
    "hidden": true
   },
   "source": [
    "<div style=\"line-height:1.75;background:#3464a2;padding-left:20px;padding-top:5px;padding-bottom:5px;border-radius:5px 5px 0px 0px\">\n",
    "<i class=\"fa fa-question\" style=\"font-size:40px;color:#e6f1ff;\"></i>\n",
    "</div>\n",
    "<div>\n",
    "<p style=\"line-height:1.75;font-size:16px;background:#e6f1ff;padding:20px;border-radius:0px 0px 5px 5px\">\n",
    "How would you encode the <i>day</i> variable?<br>\n",
    "</p></div>"
   ]
  },
  {
   "cell_type": "markdown",
   "metadata": {
    "hidden": true
   },
   "source": [
    "<div style=\"line-height:1.75;background:#f6e609;padding-left:20px;padding-top:5px;padding-bottom:5px;border-radius:5px 5px 0px 0px\">\n",
    "<i class=\"fa fa-lightbulb-o\" style=\"font-size: 50px;color:#ffffcc;\"></i>\n",
    "</div>\n",
    "<div>\n",
    "<p style=\"line-height:1.75;font-size:16px;background:#ffffcc;padding:20px;border-radius:0px 0px 5px 5px\">\n",
    "<span style=\"font-size:16px\"><b>Issues with categorical variables</b></span><br>\n",
    "If we have a categorical variable with many levels (unique values) using dummy variables (i.e. one hot encoding) could hurt our tree's performance. This has to do with the way nodes are chosen when building the tree and is beyond the scope of this course. You can read more about this issue <a href=https://kiwidamien.github.io/are-you-getting-burned-by-one-hot-encoding.html>here.</a> \n",
    "</p></div>"
   ]
  },
  {
   "cell_type": "markdown",
   "metadata": {
    "hidden": true
   },
   "source": [
    "<p style=\"line-height:1.75;font-size:16px\">\n",
    "For the purpose of this example, we'll simply drop the `day` variable."
   ]
  },
  {
   "cell_type": "code",
   "execution_count": null,
   "metadata": {
    "collapsed": true,
    "hidden": true
   },
   "outputs": [],
   "source": [
    "tips_df = tips_df.drop('day', axis=1)"
   ]
  },
  {
   "cell_type": "code",
   "execution_count": null,
   "metadata": {
    "collapsed": true,
    "hidden": true
   },
   "outputs": [],
   "source": [
    "from sklearn.model_selection import train_test_split\n",
    "\n",
    "X_train, X_test, y_train, y_test = train_test_split(tips_df.drop('tip', axis=1), tips_df['tip'], train_size=0.8)"
   ]
  },
  {
   "cell_type": "markdown",
   "metadata": {
    "hidden": true
   },
   "source": [
    "### 3.3.1. Training the model"
   ]
  },
  {
   "cell_type": "code",
   "execution_count": null,
   "metadata": {
    "collapsed": true,
    "hidden": true
   },
   "outputs": [],
   "source": [
    "from sklearn.tree import DecisionTreeRegressor\n",
    "\n",
    "model = DecisionTreeRegressor()\n",
    "model.fit(X_train, y_train)"
   ]
  },
  {
   "cell_type": "markdown",
   "metadata": {
    "hidden": true
   },
   "source": [
    "### 3.3.2. Evaluation"
   ]
  },
  {
   "cell_type": "code",
   "execution_count": null,
   "metadata": {
    "collapsed": true,
    "hidden": true
   },
   "outputs": [],
   "source": [
    "import graphviz\n",
    "from sklearn.tree import export_graphviz\n",
    "from sklearn import tree\n",
    "from IPython.display import SVG\n",
    "from graphviz import Source\n",
    "\n",
    "graph = Source(tree.export_graphviz(model, out_file=None, feature_names=X_train.columns))\n",
    "SVG(graph.pipe(format='svg'))"
   ]
  },
  {
   "cell_type": "code",
   "execution_count": null,
   "metadata": {
    "collapsed": true,
    "hidden": true
   },
   "outputs": [],
   "source": [
    "from sklearn.metrics import mean_squared_error, r2_score\n",
    "import numpy as np\n",
    "\n",
    "y_train_predicted = model.predict(X_train)\n",
    "y_test_predicted = model.predict(X_test)\n",
    "\n",
    "train_rmse = np.sqrt(mean_squared_error(y_train, y_train_predicted))\n",
    "train_r2 = r2_score(y_train, y_train_predicted)\n",
    "test_rmse = np.sqrt(mean_squared_error(y_test, y_test_predicted))\n",
    "test_r2 = r2_score(y_test, y_test_predicted)\n",
    "\n",
    "print(f'Train RMSE: {train_rmse}, Train R2: {train_r2}')\n",
    "print(f'Test RMSE: {test_rmse}, Test R2: {test_r2}')"
   ]
  },
  {
   "cell_type": "markdown",
   "metadata": {
    "hidden": true
   },
   "source": [
    "<p style=\"line-height:1.75;font-size:16px\">\n",
    "Notice how we got a RMSE of 0 for the training data? This basically means that our model makes no mistakes. Great right? Well, not really. If we look at the RMSE of the test data we immediately understand that the model suffers from overfitting. This is a pretty common issue when it comes to using tree models which are prone to overfitting due to their ability to learn the training data with high granularity. That's why it's crucial to tweak the hyperparameters of the model."
   ]
  },
  {
   "cell_type": "markdown",
   "metadata": {
    "hidden": true
   },
   "source": [
    "<div style=\"line-height:1.75;background:#f6e609;padding-left:20px;padding-top:5px;padding-bottom:5px;border-radius:5px 5px 0px 0px\">\n",
    "<i class=\"fa fa-lightbulb-o\" style=\"font-size: 50px;color:#ffffcc;\"></i>\n",
    "</div>\n",
    "<div>\n",
    "<p style=\"line-height:1.75;font-size:16px;background:#ffffcc;padding:20px;border-radius:0px 0px 5px 5px\">\n",
    "<span style=\"font-size:16px\"><b>Hyperparameters</b></span><br>\n",
    "A hyperparameter is a parameter whose value is used to control the learning process. In contrast to model parameters, which are automatically learned the data, hyperparameters are mostly set manually and help to estimate model parameters. Read more about parameters and hyperparameters <a href=https://machinelearningmastery.com/difference-between-a-parameter-and-a-hyperparameter/#:~:text=In%20summary%2C%20model%20parameters%20are,be%20set%20manually%20and%20tuned.>here.</a> \n",
    "</p></div>"
   ]
  },
  {
   "cell_type": "markdown",
   "metadata": {
    "hidden": true
   },
   "source": [
    "<div style=\"line-height:1.75;background:#1e7b1e;padding-left:20px;padding-top:5px;padding-bottom:5px;border-radius:5px 5px 0px 0px\">\n",
    "<i class=\"fa fa-pencil\" style=\"font-size:40px;color:#c1f0c1;\"></i>\n",
    "</div>\n",
    "<div>\n",
    "<p style=\"line-height:1.75;font-size:16px;background:#c1f0c1;padding:20px;border-radius:0px 0px 5px 5px\">\n",
    "Play around with the following hyperparameters to try and get a better more generalized regression tree model:<br>\n",
    "<i>max_depth</i><br>\n",
    "<i>max_leaf_nodes</i><br>\n",
    "<i>min_samples_leaf</i><br>\n",
    "You can read about all of the different hyperparameters of DecisionTreeRegressors in the <a href=https://scikit-learn.org/stable/modules/generated/sklearn.tree.DecisionTreeRegressor.html>documentation</a>.<br>\n",
    "Create a visualization of the best tree you've managed to train.\n",
    "</div>"
   ]
  },
  {
   "cell_type": "markdown",
   "metadata": {
    "heading_collapsed": true,
    "hidden": true
   },
   "source": [
    "## 3.4. Feature Importance"
   ]
  },
  {
   "cell_type": "markdown",
   "metadata": {
    "hidden": true
   },
   "source": [
    "<p style=\"line-height:1.75;font-size:16px\">\n",
    "Looking at the visualization of the regression tree, we can see some variables are used more than others. This may indicate that these features are more important than other ones but what can we do with this information? We can use it for feature selection - which features should be used in the model. The `DecisionTreeRegressor` has a built-in method that returns the importance of each feature."
   ]
  },
  {
   "cell_type": "code",
   "execution_count": null,
   "metadata": {
    "collapsed": true,
    "hidden": true
   },
   "outputs": [],
   "source": [
    "for feature, importance in zip(X_train.columns, model.feature_importances_):\n",
    "    print(f'{feature:11}: {importance:.3f}')"
   ]
  },
  {
   "cell_type": "markdown",
   "metadata": {
    "hidden": true
   },
   "source": [
    "<p style=\"line-height:1.75;font-size:16px\">\n",
    "Unsuprisingly, the `total_bill` feature is the most important one when it comes to predicting the tip. "
   ]
  },
  {
   "cell_type": "markdown",
   "metadata": {
    "hidden": true
   },
   "source": [
    "<div style=\"line-height:1.75;background:#f6e609;padding-left:20px;padding-top:5px;padding-bottom:5px;border-radius:5px 5px 0px 0px\">\n",
    "<i class=\"fa fa-lightbulb-o\" style=\"font-size: 50px;color:#ffffcc;\"></i>\n",
    "</div>\n",
    "<div>\n",
    "<p style=\"line-height:1.75;font-size:16px;background:#ffffcc;padding:20px;border-radius:0px 0px 5px 5px\">\n",
    "<span style=\"font-size:16px\"><b>Feature Selection</b></span><br>\n",
    "Feature selection is an important and common procedure when training machine learning models. It helps ensure that features with little or no predictive power aren't included in the model and that the model doesn't become overly complex. Read more about it <a href=https://www.analyticsvidhya.com/blog/2020/10/feature-selection-techniques-in-machine-learning/>here.</a> \n",
    "</p></div>"
   ]
  },
  {
   "cell_type": "markdown",
   "metadata": {},
   "source": [
    "# 4. K-Nearest Neighbors Regression"
   ]
  },
  {
   "cell_type": "markdown",
   "metadata": {
    "heading_collapsed": true
   },
   "source": [
    "## 4.1. Overview"
   ]
  },
  {
   "cell_type": "markdown",
   "metadata": {
    "hidden": true
   },
   "source": [
    "<p style=\"line-height:1.75;font-size:16px\">\n",
    "The K-Nearest neighbors algorithm is an intuitive algorithm that is based on the idea that similar records are close to one another in space. "
   ]
  },
  {
   "attachments": {
    "knn-regression.png": {
     "image/png": "[encoded data removed]"
    }
   },
   "cell_type": "markdown",
   "metadata": {
    "hidden": true
   },
   "source": [
    "![knn-regression.png](attachment:knn-regression.png)"
   ]
  },
  {
   "cell_type": "markdown",
   "metadata": {
    "hidden": true
   },
   "source": [
    "<p style=\"line-height:1.75;font-size:16px\">\n",
    "Here's a high-level overview of the K-Nearest neighbors regression algorithm:<br>\n",
    "1\\. <span style=\"line-height:1.75;font-size:16px\">\n",
    "For each data point, calculate its distance from all other data points.<br>\n",
    "2\\. <span style=\"line-height:1.75;font-size:16px\">Choose the k nearest data points.<br>\n",
    "3\\. <span style=\"line-height:1.75;font-size:16px\">Average the values of these neighbors."
   ]
  },
  {
   "cell_type": "markdown",
   "metadata": {
    "heading_collapsed": true
   },
   "source": [
    "## 4.2. K-Nearest Neighbors Regression Example "
   ]
  },
  {
   "cell_type": "markdown",
   "metadata": {
    "hidden": true
   },
   "source": [
    "<p style=\"line-height:1.75;font-size:16px\">\n",
    "We'll use the tips dataset again for this example"
   ]
  },
  {
   "cell_type": "code",
   "execution_count": null,
   "metadata": {
    "collapsed": true,
    "hidden": true
   },
   "outputs": [],
   "source": [
    "import pandas as pd\n",
    "\n",
    "tips_df = pd.read_csv('data/tips.csv')\n",
    "\n",
    "tips_df['sex'] = tips_df['sex'].apply(lambda x: 1 if x == 'Female' else 0)\n",
    "tips_df['smoker'] = tips_df['smoker'].apply(lambda x: 1 if x == 'Yes' else 0)\n",
    "tips_df['time'] = tips_df['time'].apply(lambda x: 1 if x == 'Dinner' else 0)\n",
    "tips_df = tips_df.drop('day', axis=1)\n",
    "tips_df.head()"
   ]
  },
  {
   "cell_type": "code",
   "execution_count": null,
   "metadata": {
    "collapsed": true,
    "hidden": true
   },
   "outputs": [],
   "source": [
    "from sklearn.neighbors import KNeighborsRegressor\n",
    "\n",
    "X = tips_df.drop('tip', axis=1)\n",
    "y = tips_df['tip']\n",
    "\n",
    "model = KNeighborsRegressor(n_neighbors=5)\n",
    "model.fit(X, y)"
   ]
  },
  {
   "cell_type": "markdown",
   "metadata": {
    "hidden": true
   },
   "source": [
    "<p style=\"line-height:1.75;font-size:16px\">\n",
    "In `sklearn's` implementation of the KNN algorithm, during the training process, a distance matrix is created, saving all of the distances between two data points along with a similarity matrix which stores the indices of the most similar data points. Let's take a look at it."
   ]
  },
  {
   "cell_type": "code",
   "execution_count": null,
   "metadata": {
    "collapsed": true,
    "hidden": true
   },
   "outputs": [],
   "source": [
    "distances, indices = model.kneighbors(X, return_distance=True)"
   ]
  },
  {
   "cell_type": "code",
   "execution_count": null,
   "metadata": {
    "collapsed": true,
    "hidden": true
   },
   "outputs": [],
   "source": [
    "indices"
   ]
  },
  {
   "cell_type": "code",
   "execution_count": null,
   "metadata": {
    "collapsed": true,
    "hidden": true
   },
   "outputs": [],
   "source": [
    "distances"
   ]
  },
  {
   "cell_type": "markdown",
   "metadata": {
    "hidden": true
   },
   "source": [
    "<p style=\"line-height:1.75;font-size:16px\">\n",
    "Let's examine the first data point and its most similar neighbors:"
   ]
  },
  {
   "cell_type": "code",
   "execution_count": null,
   "metadata": {
    "collapsed": true,
    "hidden": true
   },
   "outputs": [],
   "source": [
    "tips_df.loc[indices[0]]"
   ]
  },
  {
   "cell_type": "markdown",
   "metadata": {
    "hidden": true
   },
   "source": [
    "<p style=\"line-height:1.75;font-size:16px\">\n",
    "Indeed it looks like these data points are pretty similar. Let's use the model to predict a value for a new entry."
   ]
  },
  {
   "cell_type": "code",
   "execution_count": null,
   "metadata": {
    "collapsed": true,
    "hidden": true
   },
   "outputs": [],
   "source": [
    "test_sample = pd.DataFrame({'total_bill': [12], \n",
    "                           'sex': [0], \n",
    "                           'smoker': [1], \n",
    "                           'time': [1], \n",
    "                           'size': [3]})\n",
    "test_sample = test_sample[X.columns]  # Reorders the columns to match the model's input\n",
    "test_sample.head()"
   ]
  },
  {
   "cell_type": "code",
   "execution_count": null,
   "metadata": {
    "collapsed": true,
    "hidden": true
   },
   "outputs": [],
   "source": [
    "model.predict(test_sample)"
   ]
  },
  {
   "cell_type": "markdown",
   "metadata": {
    "hidden": true
   },
   "source": [
    "<p style=\"line-height:1.75;font-size:16px\">\n",
    "Let's calculate the value for this test sample on our own to verify our model works correctly."
   ]
  },
  {
   "cell_type": "code",
   "execution_count": null,
   "metadata": {
    "collapsed": true,
    "hidden": true
   },
   "outputs": [],
   "source": [
    "from sklearn.metrics import pairwise_distances\n",
    "\n",
    "distances = pairwise_distances(X, test_sample).reshape(1,-1)\n",
    "distances"
   ]
  },
  {
   "cell_type": "code",
   "execution_count": null,
   "metadata": {
    "collapsed": true,
    "hidden": true
   },
   "outputs": [],
   "source": [
    "nearest_neighbors = np.argsort(distances)[0][:5]\n",
    "nearest_neighbors"
   ]
  },
  {
   "cell_type": "code",
   "execution_count": null,
   "metadata": {
    "collapsed": true,
    "hidden": true
   },
   "outputs": [],
   "source": [
    "neighbors_tips = y.loc[nearest_neighbors]\n",
    "neighbors_tips"
   ]
  },
  {
   "cell_type": "code",
   "execution_count": null,
   "metadata": {
    "collapsed": true,
    "hidden": true
   },
   "outputs": [],
   "source": [
    "neighbors_tips.mean()"
   ]
  },
  {
   "cell_type": "markdown",
   "metadata": {
    "hidden": true
   },
   "source": [
    "<div style=\"line-height:1.75;background:#3464a2;padding-left:20px;padding-top:5px;padding-bottom:5px;border-radius:5px 5px 0px 0px\">\n",
    "<i class=\"fa fa-question\" style=\"font-size:40px;color:#e6f1ff;\"></i>\n",
    "</div>\n",
    "<div>\n",
    "<p style=\"line-height:1.75;font-size:16px;background:#e6f1ff;padding:20px;border-radius:0px 0px 5px 5px\">\n",
    "What would happen if we use <b>k=1</b>? What if we use a very large <b>k</b>?\n",
    "</p></div>"
   ]
  },
  {
   "cell_type": "markdown",
   "metadata": {
    "hidden": true
   },
   "source": [
    "<div style=\"line-height:1.75;background:#f6e609;padding-left:20px;padding-top:5px;padding-bottom:5px;border-radius:5px 5px 0px 0px\">\n",
    "<i class=\"fa fa-lightbulb-o\" style=\"font-size: 50px;color:#ffffcc;\"></i>\n",
    "</div>\n",
    "<div>\n",
    "<p style=\"line-height:1.75;font-size:16px;background:#ffffcc;padding:20px;border-radius:0px 0px 5px 5px\">\n",
    "<span style=\"font-size:16px\"><b>Choosing a value for K</b></span><br>\n",
    "Choosing the correct K value is can greatly affect the model's performance. In essence, we do this by trying various value of K and choosing the one which gives us the lowest error. You can read more about this issue <a href=https://towardsdatascience.com/how-to-find-the-optimal-value-of-k-in-knn-35d936e554eb>here.</a> \n",
    "</p></div>"
   ]
  },
  {
   "cell_type": "markdown",
   "metadata": {},
   "source": [
    "## 4.2. K-Nearest Neighbors Regressor Pros and Cons "
   ]
  },
  {
   "cell_type": "markdown",
   "metadata": {},
   "source": [
    "<p style=\"line-height:1.75;font-size:16px\">\n",
    "<b>Pros</b>\n",
    "- Easy to understand and implement.\n",
    "- Non-parametric - does not make any assumptions about the data.\n",
    "<p style=\"line-height:1.75;font-size:16px\">\n",
    "\n",
    "<b>Cons</b>\n",
    "- Computationally expensive.\n",
    "- Suffers from skewed class distributions.\n",
    "- Accuracy degrades with high-dimensional data."
   ]
  },
  {
   "cell_type": "markdown",
   "metadata": {
    "collapsed": true
   },
   "source": [
    "<div style=\"line-height:1.75;background:#1e7b1e;padding-left:20px;padding-top:5px;padding-bottom:5px;border-radius:5px 5px 0px 0px\">\n",
    "<i class=\"fa fa-pencil\" style=\"font-size:40px;color:#c1f0c1;\"></i>\n",
    "</div>\n",
    "<div>\n",
    "<p style=\"line-height:1.75;font-size:16px;background:#c1f0c1;padding:20px;border-radius:0px 0px 5px 5px\">\n",
    "Train a KNN regressor on the housing dataset we used earlier to predict the median house value. Try several different values for k and plot the results.\n",
    "</div>"
   ]
  },
  {
   "cell_type": "markdown",
   "metadata": {},
   "source": [
    "# 5. Custom Regressor"
   ]
  },
  {
   "cell_type": "markdown",
   "metadata": {},
   "source": [
    "<p style=\"line-height:1.75;font-size:16px\">\n",
    "Sometimes, we'd like our regressor to have a unique behavior. From processing the data further to using a custom loss function we want to be able to have more control over the inner-workings. Luckily, building our own regressor that conforms to sklearn's api is not very difficult - let's see how.<br>\n",
    "We'll build a very simple regressor called MeanRegressor which ignores the input data and just returns the mean of the labels."
   ]
  },
  {
   "cell_type": "code",
   "execution_count": null,
   "metadata": {
    "collapsed": true
   },
   "outputs": [],
   "source": [
    "import numpy as np\n",
    "from sklearn.base import BaseEstimator, RegressorMixin\n",
    "\n",
    "class MeanRegressor(BaseEstimator, RegressorMixin):\n",
    "    def fit(self, X, y):\n",
    "        self.mean_ = y.mean()\n",
    "        return self\n",
    "    \n",
    "    def predict(self, X):\n",
    "        return np.array(X.shape[0]*[self.mean_])"
   ]
  },
  {
   "cell_type": "markdown",
   "metadata": {},
   "source": [
    "<p style=\"line-height:1.75;font-size:16px\">\n",
    "If we test this on the housing data we'll see that this basic implementation already works"
   ]
  },
  {
   "cell_type": "code",
   "execution_count": null,
   "metadata": {
    "collapsed": true
   },
   "outputs": [],
   "source": [
    "df = pd.read_csv('data/housing.csv')\n",
    "df.drop('ocean_proximity', axis=1, inplace=True)\n",
    "df.dropna(inplace=True)\n",
    "\n",
    "l = MeanRegressor()\n",
    "l.fit(df.drop('median_house_value', axis=1), df['median_house_value'])\n",
    "l.predict(df.drop('median_house_value', axis=1))"
   ]
  },
  {
   "cell_type": "markdown",
   "metadata": {},
   "source": [
    "<p style=\"line-height:1.75;font-size:16px\">\n",
    "Since we are inheriting from `BaseEstimator` and `RegressorMixin` we can also use the `score` method."
   ]
  },
  {
   "cell_type": "code",
   "execution_count": null,
   "metadata": {
    "collapsed": true
   },
   "outputs": [],
   "source": [
    "l.score(df.drop('median_house_value', axis=1), df['median_house_value'])"
   ]
  },
  {
   "cell_type": "markdown",
   "metadata": {},
   "source": [
    "<div style=\"line-height:1.75;background:#f6e609;padding-left:20px;padding-top:5px;padding-bottom:5px;border-radius:5px 5px 0px 0px\">\n",
    "<i class=\"fa fa-lightbulb-o\" style=\"font-size: 50px;color:#ffffcc;\"></i>\n",
    "</div>\n",
    "<div>\n",
    "<p style=\"line-height:1.75;font-size:16px;background:#ffffcc;padding:20px;border-radius:0px 0px 5px 5px\">\n",
    "<span style=\"font-size:16px\"><b>BaseEstimator and RegressorMixin</b></span><br>\n",
    "The `BaseEstimator` is a base class for all estimators in scikit-learn which gives us the `fit` and `predict` functions. The `RegressorMixin` is a mixin class that gives us the score function. You can read more about them in  <a href=https://scikit-learn.org/stable/developers/develop.html>sklearn's documentation</a>.</p></div>"
   ]
  },
  {
   "cell_type": "markdown",
   "metadata": {},
   "source": [
    "<p style=\"line-height:1.75;font-size:16px\">\n",
    "Let's make our regressor a bit more complicated by adding a hyperparameter c. If c is passed in the init then just return c else return the mean."
   ]
  },
  {
   "cell_type": "code",
   "execution_count": null,
   "metadata": {
    "collapsed": true
   },
   "outputs": [],
   "source": [
    "class ConstantRegressor(BaseEstimator, RegressorMixin):\n",
    "    def __init__(self, c=None):\n",
    "        self.c = c\n",
    "        \n",
    "    def fit(self, X, y):\n",
    "        if self.c is None:\n",
    "            self.const_ = y.mean()\n",
    "        else:\n",
    "            self.const_ = self.c\n",
    "        return self\n",
    "    \n",
    "    def predict(self, X):\n",
    "        return np.array(X.shape[0]*[self.const_])"
   ]
  },
  {
   "cell_type": "code",
   "execution_count": null,
   "metadata": {
    "collapsed": true
   },
   "outputs": [],
   "source": [
    "r = ConstantRegressor()\n",
    "r.fit(df.drop('median_house_value', axis=1), df['median_house_value'])\n",
    "print(f\"Without c: {r.predict(df.drop('median_house_value', axis=1))}\")\n",
    "\n",
    "l = ConstantRegressor(42)\n",
    "l.fit(df.drop('median_house_value', axis=1), df['median_house_value'])\n",
    "print(f\"Without c: {l.predict(df.drop('median_house_value', axis=1))}\")"
   ]
  },
  {
   "cell_type": "markdown",
   "metadata": {},
   "source": [
    "<p style=\"line-height:1.75;font-size:16px\">\n",
    "Technically you could finish here and have a working regressor. However, in order to fully conform to sklearn there is some boilerplate code required."
   ]
  },
  {
   "cell_type": "code",
   "execution_count": null,
   "metadata": {
    "collapsed": true
   },
   "outputs": [],
   "source": [
    "import numpy as np\n",
    "from sklearn.base import BaseEstimator, RegressorMixin\n",
    "from sklearn.utils.validation import check_X_y, check_array, check_is_fitted\n",
    "\n",
    "class ConstantRegressor(BaseEstimator, RegressorMixin):\n",
    "    def __init__(self, c=None):\n",
    "        self.c = c\n",
    "        \n",
    "    def fit(self, X, y):\n",
    "        X, y = check_X_y(X, y)\n",
    "        \n",
    "        if self.c is None:\n",
    "            self.const_ = y.mean()\n",
    "        else:\n",
    "            self.const_ = self.c\n",
    "        return self\n",
    "    \n",
    "    def predict(self, X):\n",
    "        check_is_fitted(self)\n",
    "        X = check_array(X)\n",
    "        \n",
    "        return np.array(X.shape[0]*[self.const_])"
   ]
  },
  {
   "cell_type": "markdown",
   "metadata": {},
   "source": [
    "<p style=\"line-height:1.75;font-size:16px\">\n",
    "<b>check_X_y</b> checks X and y for consistent length, enforces X to be 2D and y 1D.<br>\n",
    "<b>check_array</b> does input validation on an array, list, sparse matrix or similar.<br>\n",
    "<b>check_is_fitted</b> checks if the estimator is fitted by verifying the presence of\n",
    "fitted attributes (ending with a trailing underscore)"
   ]
  },
  {
   "cell_type": "markdown",
   "metadata": {},
   "source": [
    "<div style=\"line-height:1.75;background:#1e7b1e;padding-left:20px;padding-top:5px;padding-bottom:5px;border-radius:5px 5px 0px 0px\">\n",
    "<i class=\"fa fa-pencil\" style=\"font-size:40px;color:#c1f0c1;\"></i>\n",
    "</div>\n",
    "<div>\n",
    "<p style=\"line-height:1.75;font-size:16px;background:#c1f0c1;padding:20px;border-radius:0px 0px 5px 5px\">\n",
    "Time to build your own custom regressor. Recall that for the height weight dataset you previously trained a different model for each gender. It would be nice however to have all of that logic built into one regressor. Build a custom regressor that fits a different model based on the person's gender (you can use an existing regressor such as linear regression for each gender). Then, in the predict function, your implementation should also use the correct trained regressor based again on the person's gender. You can also remove the boilerplate code if needed.\n",
    "</div>"
   ]
  }
 ],
 "metadata": {
  "kernelspec": {
   "display_name": "Python 3",
   "language": "python",
   "name": "python3"
  },
  "language_info": {
   "codemirror_mode": {
    "name": "ipython",
    "version": 3
   },
   "file_extension": ".py",
   "mimetype": "text/x-python",
   "name": "python",
   "nbconvert_exporter": "python",
   "pygments_lexer": "ipython3",
   "version": "3.6.3"
  }
 },
 "nbformat": 4,
 "nbformat_minor": 2
}
