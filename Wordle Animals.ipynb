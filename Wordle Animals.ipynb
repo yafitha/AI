{
 "cells": [
  {
   "cell_type": "code",
   "execution_count": 23,
   "metadata": {},
   "outputs": [
    {
     "ename": "ModuleNotFoundError",
     "evalue": "No module named 'termcolor'",
     "output_type": "error",
     "traceback": [
      "\u001b[1;31m---------------------------------------------------------------------------\u001b[0m",
      "\u001b[1;31mModuleNotFoundError\u001b[0m                       Traceback (most recent call last)",
      "\u001b[1;32m<ipython-input-23-703e34d07e5e>\u001b[0m in \u001b[0;36m<module>\u001b[1;34m\u001b[0m\n\u001b[0;32m      1\u001b[0m \u001b[1;32mfrom\u001b[0m \u001b[0mrandom\u001b[0m \u001b[1;32mimport\u001b[0m \u001b[0mchoice\u001b[0m\u001b[1;33m\u001b[0m\u001b[1;33m\u001b[0m\u001b[0m\n\u001b[1;32m----> 2\u001b[1;33m \u001b[1;32mfrom\u001b[0m \u001b[0mtermcolor\u001b[0m \u001b[1;32mimport\u001b[0m \u001b[0mcolored\u001b[0m\u001b[1;33m\u001b[0m\u001b[1;33m\u001b[0m\u001b[0m\n\u001b[0m",
      "\u001b[1;31mModuleNotFoundError\u001b[0m: No module named 'termcolor'"
     ]
    }
   ],
   "source": [
    "from random import choice\n",
    "from termcolor import colored"
   ]
  },
  {
   "cell_type": "code",
   "execution_count": 2,
   "metadata": {},
   "outputs": [],
   "source": [
    "def game_instruction():\n",
    "    print(\"\"\"Wordle is a single player game \n",
    "A player has to guess a five letter hidden word \n",
    "You have 6  tries to guess my secret word \n",
    "\"o\" Indicates that the letter at that position was guessed correctly \n",
    "\"x\" indicates that the letter at that position is in the hidden word, but in a different position \n",
    "\"-\" indicates that the letter at that position is wrong, and isn't in the hidden word\"\"\")\n"
   ]
  },
  {
   "cell_type": "code",
   "execution_count": 56,
   "metadata": {},
   "outputs": [],
   "source": [
    "#Consts\n",
    "\n",
    "ALLOWED_GUESSES = 6\n",
    "CORRECT_PLACE = 'x'\n",
    "CORRECT_LETTER= 'o'\n",
    "ICORRECT_LETTER ='-'\n",
    "animals = ['akita','bison','bongo','booby','camel','coral','crane','dingo','eagle','goose','horse','human','koala','lemur','liger','llama','macaw','moose','mouse','otter','prawn','quail','quoll','ratel','robin','sheep','skunk','sloth','snail','snake','squid','tapir','tiger','whale','xerus','zebra','zorse']"
   ]
  },
  {
   "cell_type": "code",
   "execution_count": 57,
   "metadata": {},
   "outputs": [],
   "source": [
    "#Colors\n",
    "R  = '\\033[31m' # red\n",
    "G  = '\\033[32m' # green\n"
   ]
  },
  {
   "cell_type": "code",
   "execution_count": 58,
   "metadata": {},
   "outputs": [],
   "source": [
    "def check_guess(guess, answer):\n",
    "    guessed = []\n",
    "    wordle_pattern = []\n",
    "    for i, letter in enumerate(guess):\n",
    "        if answer[i] == guess[i]:\n",
    "            guessed += CORRECT_LETTER\n",
    "        elif letter in answer:\n",
    "            guessed += CORRECT_PLACE\n",
    "        else:\n",
    "            guessed += ICORRECT_LETTER\n",
    "    return ''.join(guessed)"
   ]
  },
  {
   "cell_type": "code",
   "execution_count": 62,
   "metadata": {},
   "outputs": [],
   "source": [
    "def game(chosen_word):\n",
    "    end_of_game = False\n",
    "    count = ALLOWED_GUESSES\n",
    "    already_guessed = []\n",
    "    full_wordle_pattern = []\n",
    "\n",
    "    while not end_of_game:\n",
    "        guess = str(input(G+\"Guess the word: \"))\n",
    "        if guess == chosen_word:\n",
    "                print(G+ \"VICTORTY!\\n\")\n",
    "                break\n",
    "             \n",
    "        while len(guess) != 5 or guess in already_guessed or guess not in animals:\n",
    "            if guess in already_guessed:\n",
    "                print(R+\"You've already guessed this word!!\\n\")\n",
    "            elif guess not in animals:\n",
    "                print(R+'Word not in Words list!!\\n')\n",
    "            else:\n",
    "                print(R+'Now try again  with  a 5 letters!!\\n')\n",
    "            guess =  str(input(\"\"))\n",
    "        \n",
    "        count = count -1\n",
    "        already_guessed.append(guess)\n",
    "        pattern = check_guess(guess, chosen_word)\n",
    "        full_wordle_pattern.append(pattern)\n",
    "        print(G+pattern, sep=\"\\n\")\n",
    "        print(G+\"{} more guesses\".format(count))\n",
    "        if len(already_guessed) == ALLOWED_GUESSES:\n",
    "            end_of_game = True\n",
    "            \n",
    "    if len(already_guessed) == ALLOWED_GUESSES and guess != chosen_word:\n",
    "        print(G+ \"Game OVER!\")\n",
    "        print(G+\"Thw word was:{}\".format(chosen_word))\n",
    "        print(*already_guessed, sep=\"\\n\")\n",
    "        print(*full_wordle_pattern, sep=\"\\n\")\n",
    "    "
   ]
  },
  {
   "cell_type": "code",
   "execution_count": 63,
   "metadata": {},
   "outputs": [
    {
     "name": "stdout",
     "output_type": "stream",
     "text": [
      "camel\n",
      "Guess the word: squid\n",
      "\u001b[32m-----\n",
      "\u001b[32m5 more guesses\n",
      "Guess the word: sloth\n",
      "\u001b[32m-x---\n",
      "\u001b[32m4 more guesses\n",
      "Guess the word: skunk\n",
      "\u001b[32m-----\n",
      "\u001b[32m3 more guesses\n",
      "Guess the word: robin\n",
      "\u001b[32m-----\n",
      "\u001b[32m2 more guesses\n",
      "Guess the word: ratel\n",
      "\u001b[32m-o-oo\n",
      "\u001b[32m1 more guesses\n",
      "Guess the word: whale\n",
      "\u001b[32m--xxx\n",
      "\u001b[32m0 more guesses\n",
      "\u001b[32mGame OVER!\n",
      "\u001b[32mThw word was:camel\n",
      "squid\n",
      "sloth\n",
      "skunk\n",
      "robin\n",
      "ratel\n",
      "whale\n",
      "-----\n",
      "-x---\n",
      "-----\n",
      "-----\n",
      "-o-oo\n",
      "--xxx\n"
     ]
    }
   ],
   "source": [
    "chosen_word = choice(animals)\n",
    "print(\"{}\".format(chosen_word))\n",
    "game(chosen_word)\n",
    "\n",
    "    "
   ]
  }
 ],
 "metadata": {
  "kernelspec": {
   "display_name": "Python 3",
   "language": "python",
   "name": "python3"
  },
  "language_info": {
   "codemirror_mode": {
    "name": "ipython",
    "version": 3
   },
   "file_extension": ".py",
   "mimetype": "text/x-python",
   "name": "python",
   "nbconvert_exporter": "python",
   "pygments_lexer": "ipython3",
   "version": "3.8.3"
  }
 },
 "nbformat": 4,
 "nbformat_minor": 4
}
